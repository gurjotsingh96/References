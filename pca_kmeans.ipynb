{
 "cells": [
  {
   "cell_type": "markdown",
   "id": "383c85af-24bc-4faf-adef-91f9fbc8b381",
   "metadata": {},
   "source": [
    "# Kmeans/pca etc."
   ]
  },
  {
   "cell_type": "markdown",
   "id": "6cc4e2b0-c2cd-4e59-8518-478e937ec2fb",
   "metadata": {},
   "source": [
    "# Apply k-means with different value of k\n",
    "for k in range(2, 10):\n",
    "    k_means = KMeans(featuresCol='rfm_standardized', k=k)\n",
    "    model = k_means.fit(scaled_data)\n",
    "    costs[k] = model.computeCost(scaled_data)\n",
    "\n",
    "# Plot the cost function\n",
    "fig, ax = plt.subplots(1, 1, figsize =(16, 8))\n",
    "\n",
    "ax.plot(costs.keys(), costs.values())\n",
    "ax.set_xlabel('k')\n",
    "ax.set_ylabel('cost')\n"
   ]
  },
  {
   "cell_type": "markdown",
   "id": "2d2e425a-a2c9-4551-9a91-04c715e4ab2e",
   "metadata": {},
   "source": [
    "k_means = KMeans(featuresCol='rfm_standardized', k=4)\n",
    "model = k_means.fit(scaled_data)\n",
    "predictions = model.transform(scaled_data)\n",
    "\n",
    "result = predictions.select('CustomerID', 'prediction')"
   ]
  },
  {
   "cell_type": "markdown",
   "id": "f43ede07-b2cc-4fdb-9adf-0c91a399bf0e",
   "metadata": {},
   "source": [
    "##PCA#####\n",
    "\n",
    "#Explained Variance\n",
    "\n",
    "# Calculating Eigenvectors and eigenvalues of Cov matirx\n",
    "mean_vec = np.mean(X_std, axis=0)\n",
    "cov_mat = np.cov(X_std.T)\n",
    "eig_vals, eig_vecs = np.linalg.eig(cov_mat)\n",
    "\n",
    "\n",
    "# Create a list of (eigenvalue, eigenvector) tuples\n",
    "eig_pairs = [ (np.abs(eig_vals[i]),eig_vecs[:,i]) for i in range(len(eig_vals))]\n",
    "\n",
    "# Sort from high to low\n",
    "eig_pairs.sort(key = lambda x: x[0], reverse= True)\n",
    "\n",
    "# Calculation of Explained Variance from the eigenvalues\n",
    "tot = sum(eig_vals)\n",
    "var_exp = [(i/tot)*100 for i in sorted(eig_vals, reverse=True)] # Individual explained variance\n",
    "cum_var_exp = np.cumsum(var_exp) # Cumulative explained variance\n",
    "\n",
    "\n",
    "# PLOT OUT THE EXPLAINED VARIANCES SUPERIMPOSED \n",
    "plt.figure(figsize=(10, 5))\n",
    "plt.bar(range(16), var_exp, alpha=0.3333, align='center', label='individual explained variance', color = 'g')\n",
    "plt.step(range(16), cum_var_exp, where='mid',label='cumulative explained variance')\n",
    "plt.ylabel('Explained variance ratio')\n",
    "plt.xlabel('Principal components')\n",
    "plt.legend(loc='best')\n",
    "plt.show()\n",
    "\n",
    "#######PCA#######"
   ]
  },
  {
   "cell_type": "markdown",
   "id": "d36b7348-ed67-415c-9efc-053b2a0aafc2",
   "metadata": {},
   "source": [
    "pca = PCA(n_components=9)\n",
    "x_9d = pca.fit_transform(X_std)\n",
    "\n",
    "plt.figure(figsize = (9,7))\n",
    "plt.scatter(x_9d[:,0],x_9d[:,1], c='goldenrod',alpha=0.5)\n",
    "plt.ylim(-10,30)\n",
    "plt.show()\n",
    "\n",
    "\n",
    "\n",
    "\n",
    "# Set a 3 KMeans clustering\n",
    "kmeans = KMeans(n_clusters=3)\n",
    "# Compute cluster centers and predict cluster indices\n",
    "X_clustered = kmeans.fit_predict(x_9d)\n",
    "\n",
    "# Define our own color map\n",
    "LABEL_COLOR_MAP = {0 : 'r',1 : 'g',2 : 'b'}\n",
    "label_color = [LABEL_COLOR_MAP[l] for l in X_clustered]\n",
    "\n",
    "# Plot the scatter digram\n",
    "plt.figure(figsize = (7,7))\n",
    "plt.scatter(x_9d[:,0],x_9d[:,2], c= label_color, alpha=0.5) \n",
    "plt.show()\n",
    "\n",
    "\n",
    "\n",
    "\n",
    "# Create a temp dataframe from our PCA projection data \"x_9d\"\n",
    "df = pd.DataFrame(x_9d)\n",
    "df = df[[0,1,2]] # only want to visualise relationships between first 3 projections\n",
    "df['X_cluster'] = X_clustered\n",
    "\n",
    "# Call Seaborn's pairplot to visualize our KMeans clustering on the PCA projected data\n",
    "sns.pairplot(df, hue='X_cluster', palette= 'Dark2', diag_kind='kde',size=1.85)"
   ]
  }
 ],
 "metadata": {
  "kernelspec": {
   "display_name": "Python 3",
   "language": "python",
   "name": "python3"
  },
  "language_info": {
   "codemirror_mode": {
    "name": "ipython",
    "version": 3
   },
   "file_extension": ".py",
   "mimetype": "text/x-python",
   "name": "python",
   "nbconvert_exporter": "python",
   "pygments_lexer": "ipython3",
   "version": "3.8.8"
  }
 },
 "nbformat": 4,
 "nbformat_minor": 5
}
