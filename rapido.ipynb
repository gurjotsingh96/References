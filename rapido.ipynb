{
  "cells": [
    {
      "cell_type": "markdown",
      "metadata": {
        "id": "rmeMoP0eexsV"
      },
      "source": [
        "## Setup"
      ]
    },
    {
      "cell_type": "code",
      "execution_count": null,
      "metadata": {
        "id": "OpybpjlZexsZ"
      },
      "outputs": [],
      "source": [
        "import pandas as pd\n",
        "import seaborn as sns\n",
        "import matplotlib.pyplot as plt\n",
        "% matplotlib inline\n",
        "import numpy as np\n",
        "import datetime\n",
        "import statsmodels.api as sm\n",
        "import statsmodels.formula.api as smf"
      ]
    },
    {
      "cell_type": "markdown",
      "metadata": {
        "id": "3nHeySLwexsb"
      },
      "source": [
        "# PART 1 : Exploratory Data Analysis\n",
        "Perform an exploratory data analysis on the given dataset and share your findings."
      ]
    },
    {
      "cell_type": "markdown",
      "metadata": {
        "id": "yjXunYbRexsb"
      },
      "source": [
        "## Importing data"
      ]
    },
    {
      "cell_type": "code",
      "execution_count": null,
      "metadata": {
        "id": "e2U5tKqjexsb"
      },
      "outputs": [],
      "source": [
        "df = pd.read_excel('BaseData.xlsx')"
      ]
    },
    {
      "cell_type": "code",
      "execution_count": null,
      "metadata": {
        "id": "G8gKK4jlexsc",
        "outputId": "908f3330-2673-44b7-d001-631ede3de6d0"
      },
      "outputs": [
        {
          "data": {
            "text/html": [
              "<div>\n",
              "<style>\n",
              "    .dataframe thead tr:only-child th {\n",
              "        text-align: right;\n",
              "    }\n",
              "\n",
              "    .dataframe thead th {\n",
              "        text-align: left;\n",
              "    }\n",
              "\n",
              "    .dataframe tbody tr th {\n",
              "        vertical-align: top;\n",
              "    }\n",
              "</style>\n",
              "<table border=\"1\" class=\"dataframe\">\n",
              "  <thead>\n",
              "    <tr style=\"text-align: right;\">\n",
              "      <th></th>\n",
              "      <th>trip_id</th>\n",
              "      <th>customer_id</th>\n",
              "      <th>timestamp</th>\n",
              "      <th>pick_lat</th>\n",
              "      <th>pick_lng</th>\n",
              "      <th>drop_lat</th>\n",
              "      <th>drop_lng</th>\n",
              "      <th>travel_distance</th>\n",
              "      <th>travel_time</th>\n",
              "      <th>trip_fare</th>\n",
              "    </tr>\n",
              "  </thead>\n",
              "  <tbody>\n",
              "    <tr>\n",
              "      <th>0</th>\n",
              "      <td>ID001</td>\n",
              "      <td>CUST_001</td>\n",
              "      <td>1546709270211</td>\n",
              "      <td>17.442705</td>\n",
              "      <td>78.387878</td>\n",
              "      <td>17.457829</td>\n",
              "      <td>78.399056</td>\n",
              "      <td>2.806</td>\n",
              "      <td>12.609667</td>\n",
              "      <td>37</td>\n",
              "    </tr>\n",
              "    <tr>\n",
              "      <th>1</th>\n",
              "      <td>ID002</td>\n",
              "      <td>CUST_002</td>\n",
              "      <td>1546709309524</td>\n",
              "      <td>17.490189</td>\n",
              "      <td>78.415512</td>\n",
              "      <td>17.450548</td>\n",
              "      <td>78.367294</td>\n",
              "      <td>11.991</td>\n",
              "      <td>24.075200</td>\n",
              "      <td>119</td>\n",
              "    </tr>\n",
              "    <tr>\n",
              "      <th>2</th>\n",
              "      <td>ID003</td>\n",
              "      <td>CUST_003</td>\n",
              "      <td>1546709331857</td>\n",
              "      <td>17.370108</td>\n",
              "      <td>78.515045</td>\n",
              "      <td>17.377041</td>\n",
              "      <td>78.517921</td>\n",
              "      <td>1.322</td>\n",
              "      <td>8.708300</td>\n",
              "      <td>27</td>\n",
              "    </tr>\n",
              "    <tr>\n",
              "      <th>3</th>\n",
              "      <td>ID004</td>\n",
              "      <td>CUST_004</td>\n",
              "      <td>1546709358403</td>\n",
              "      <td>17.439314</td>\n",
              "      <td>78.443001</td>\n",
              "      <td>17.397131</td>\n",
              "      <td>78.516586</td>\n",
              "      <td>11.822</td>\n",
              "      <td>24.037550</td>\n",
              "      <td>121</td>\n",
              "    </tr>\n",
              "    <tr>\n",
              "      <th>4</th>\n",
              "      <td>ID005</td>\n",
              "      <td>CUST_005</td>\n",
              "      <td>1546709386884</td>\n",
              "      <td>17.432325</td>\n",
              "      <td>78.381966</td>\n",
              "      <td>17.401625</td>\n",
              "      <td>78.400032</td>\n",
              "      <td>6.978</td>\n",
              "      <td>16.120867</td>\n",
              "      <td>58</td>\n",
              "    </tr>\n",
              "  </tbody>\n",
              "</table>\n",
              "</div>"
            ],
            "text/plain": [
              "  trip_id customer_id      timestamp   pick_lat   pick_lng   drop_lat  \\\n",
              "0   ID001    CUST_001  1546709270211  17.442705  78.387878  17.457829   \n",
              "1   ID002    CUST_002  1546709309524  17.490189  78.415512  17.450548   \n",
              "2   ID003    CUST_003  1546709331857  17.370108  78.515045  17.377041   \n",
              "3   ID004    CUST_004  1546709358403  17.439314  78.443001  17.397131   \n",
              "4   ID005    CUST_005  1546709386884  17.432325  78.381966  17.401625   \n",
              "\n",
              "    drop_lng  travel_distance  travel_time  trip_fare  \n",
              "0  78.399056            2.806    12.609667         37  \n",
              "1  78.367294           11.991    24.075200        119  \n",
              "2  78.517921            1.322     8.708300         27  \n",
              "3  78.516586           11.822    24.037550        121  \n",
              "4  78.400032            6.978    16.120867         58  "
            ]
          },
          "execution_count": 5,
          "metadata": {},
          "output_type": "execute_result"
        }
      ],
      "source": [
        "df.head()"
      ]
    },
    {
      "cell_type": "code",
      "execution_count": null,
      "metadata": {
        "id": "wXi2eh9Uexsd",
        "outputId": "97187ebe-5c8a-4ca4-c9d7-6e62cf0693cc"
      },
      "outputs": [
        {
          "name": "stdout",
          "output_type": "stream",
          "text": [
            "No. of rows and column : (44587, 10)\n"
          ]
        }
      ],
      "source": [
        "print('No. of rows and column : ' + str(df.shape))"
      ]
    },
    {
      "cell_type": "code",
      "execution_count": null,
      "metadata": {
        "id": "sHSdsYAFexsd",
        "outputId": "489c6a7d-8ede-473f-ab1a-c7a2fb4f6266"
      },
      "outputs": [
        {
          "data": {
            "text/plain": [
              "trip_id             object\n",
              "customer_id         object\n",
              "timestamp            int64\n",
              "pick_lat           float64\n",
              "pick_lng           float64\n",
              "drop_lat           float64\n",
              "drop_lng           float64\n",
              "travel_distance    float64\n",
              "travel_time        float64\n",
              "trip_fare            int64\n",
              "dtype: object"
            ]
          },
          "execution_count": 5,
          "metadata": {},
          "output_type": "execute_result"
        }
      ],
      "source": [
        "df.dtypes"
      ]
    },
    {
      "cell_type": "markdown",
      "metadata": {
        "id": "TioTBeq-exse"
      },
      "source": [
        "## Exploratory Data Analysis"
      ]
    },
    {
      "cell_type": "markdown",
      "metadata": {
        "id": "AVowwW1oexse"
      },
      "source": [
        "### Missing value counts"
      ]
    },
    {
      "cell_type": "code",
      "execution_count": null,
      "metadata": {
        "id": "0ckJ03-0exse",
        "outputId": "6554f3a3-a0d1-47b4-eff3-97bbc76f43a8"
      },
      "outputs": [
        {
          "data": {
            "text/plain": [
              "trip_id            0\n",
              "customer_id        0\n",
              "timestamp          0\n",
              "pick_lat           0\n",
              "pick_lng           0\n",
              "drop_lat           0\n",
              "drop_lng           0\n",
              "travel_distance    0\n",
              "travel_time        0\n",
              "trip_fare          0\n",
              "dtype: int64"
            ]
          },
          "execution_count": 7,
          "metadata": {},
          "output_type": "execute_result"
        }
      ],
      "source": [
        "df.isnull().sum()"
      ]
    },
    {
      "cell_type": "markdown",
      "metadata": {
        "id": "dv2yPUtUexsf"
      },
      "source": [
        "### Primary key"
      ]
    },
    {
      "cell_type": "code",
      "execution_count": null,
      "metadata": {
        "id": "--cElvcGexsf",
        "outputId": "6b7bead8-4d22-4586-f34d-82208541e311"
      },
      "outputs": [
        {
          "data": {
            "text/plain": [
              "44587"
            ]
          },
          "execution_count": 8,
          "metadata": {},
          "output_type": "execute_result"
        }
      ],
      "source": [
        "df['trip_id'].nunique()"
      ]
    },
    {
      "cell_type": "code",
      "execution_count": null,
      "metadata": {
        "id": "f2XF3E8Mexsf",
        "outputId": "b31a45bb-634b-4766-df95-b6aa6f87f2bb"
      },
      "outputs": [
        {
          "data": {
            "text/plain": [
              "19139"
            ]
          },
          "execution_count": 9,
          "metadata": {},
          "output_type": "execute_result"
        }
      ],
      "source": [
        "df['customer_id'].nunique()"
      ]
    },
    {
      "cell_type": "markdown",
      "metadata": {
        "id": "PxXX0QRJexsg"
      },
      "source": [
        "## Univariate analysis"
      ]
    },
    {
      "cell_type": "markdown",
      "metadata": {
        "id": "5KoXhmJaexsg"
      },
      "source": [
        "### 1. Continuous variables : travel_distance, travel_time and trip_fare"
      ]
    },
    {
      "cell_type": "code",
      "execution_count": null,
      "metadata": {
        "id": "uDc8BIVgexsg",
        "outputId": "53baf38d-21b6-44af-cd1f-f88ce1a36052"
      },
      "outputs": [
        {
          "data": {
            "text/html": [
              "<div>\n",
              "<style>\n",
              "    .dataframe thead tr:only-child th {\n",
              "        text-align: right;\n",
              "    }\n",
              "\n",
              "    .dataframe thead th {\n",
              "        text-align: left;\n",
              "    }\n",
              "\n",
              "    .dataframe tbody tr th {\n",
              "        vertical-align: top;\n",
              "    }\n",
              "</style>\n",
              "<table border=\"1\" class=\"dataframe\">\n",
              "  <thead>\n",
              "    <tr style=\"text-align: right;\">\n",
              "      <th></th>\n",
              "      <th>travel_distance</th>\n",
              "      <th>travel_time</th>\n",
              "      <th>trip_fare</th>\n",
              "    </tr>\n",
              "  </thead>\n",
              "  <tbody>\n",
              "    <tr>\n",
              "      <th>count</th>\n",
              "      <td>44587.000000</td>\n",
              "      <td>44587.000000</td>\n",
              "      <td>44587.000000</td>\n",
              "    </tr>\n",
              "    <tr>\n",
              "      <th>mean</th>\n",
              "      <td>5.094359</td>\n",
              "      <td>15.819835</td>\n",
              "      <td>53.872833</td>\n",
              "    </tr>\n",
              "    <tr>\n",
              "      <th>std</th>\n",
              "      <td>3.365008</td>\n",
              "      <td>23.462865</td>\n",
              "      <td>33.430462</td>\n",
              "    </tr>\n",
              "    <tr>\n",
              "      <th>min</th>\n",
              "      <td>-1.000000</td>\n",
              "      <td>0.022750</td>\n",
              "      <td>20.000000</td>\n",
              "    </tr>\n",
              "    <tr>\n",
              "      <th>25%</th>\n",
              "      <td>2.744500</td>\n",
              "      <td>8.428525</td>\n",
              "      <td>36.000000</td>\n",
              "    </tr>\n",
              "    <tr>\n",
              "      <th>50%</th>\n",
              "      <td>4.299000</td>\n",
              "      <td>13.126250</td>\n",
              "      <td>46.000000</td>\n",
              "    </tr>\n",
              "    <tr>\n",
              "      <th>75%</th>\n",
              "      <td>6.679500</td>\n",
              "      <td>20.111167</td>\n",
              "      <td>60.000000</td>\n",
              "    </tr>\n",
              "    <tr>\n",
              "      <th>max</th>\n",
              "      <td>52.801000</td>\n",
              "      <td>4134.388700</td>\n",
              "      <td>1670.000000</td>\n",
              "    </tr>\n",
              "  </tbody>\n",
              "</table>\n",
              "</div>"
            ],
            "text/plain": [
              "       travel_distance   travel_time     trip_fare\n",
              "count     44587.000000  44587.000000  44587.000000\n",
              "mean          5.094359     15.819835     53.872833\n",
              "std           3.365008     23.462865     33.430462\n",
              "min          -1.000000      0.022750     20.000000\n",
              "25%           2.744500      8.428525     36.000000\n",
              "50%           4.299000     13.126250     46.000000\n",
              "75%           6.679500     20.111167     60.000000\n",
              "max          52.801000   4134.388700   1670.000000"
            ]
          },
          "execution_count": 10,
          "metadata": {},
          "output_type": "execute_result"
        }
      ],
      "source": [
        "df[['travel_distance','travel_time','trip_fare']].describe()"
      ]
    },
    {
      "cell_type": "markdown",
      "metadata": {
        "id": "am-3Es56exsh"
      },
      "source": [
        "#### There are some absurd values for travel distance like -1. lets look this into more detail"
      ]
    },
    {
      "cell_type": "code",
      "execution_count": null,
      "metadata": {
        "collapsed": true,
        "id": "MmErBAkBexsh"
      },
      "outputs": [],
      "source": [
        ""
      ]
    },
    {
      "cell_type": "code",
      "execution_count": null,
      "metadata": {
        "collapsed": true,
        "id": "q95Q9RTtexsh"
      },
      "outputs": [],
      "source": [
        ""
      ]
    },
    {
      "cell_type": "code",
      "execution_count": null,
      "metadata": {
        "id": "XscOKhRBexsh",
        "outputId": "ec73830b-15aa-4c09-e38d-0d0f5bd9cf45"
      },
      "outputs": [
        {
          "data": {
            "text/html": [
              "<div>\n",
              "<style>\n",
              "    .dataframe thead tr:only-child th {\n",
              "        text-align: right;\n",
              "    }\n",
              "\n",
              "    .dataframe thead th {\n",
              "        text-align: left;\n",
              "    }\n",
              "\n",
              "    .dataframe tbody tr th {\n",
              "        vertical-align: top;\n",
              "    }\n",
              "</style>\n",
              "<table border=\"1\" class=\"dataframe\">\n",
              "  <thead>\n",
              "    <tr style=\"text-align: right;\">\n",
              "      <th></th>\n",
              "      <th>index</th>\n",
              "      <th>travel_distance</th>\n",
              "    </tr>\n",
              "  </thead>\n",
              "  <tbody>\n",
              "    <tr>\n",
              "      <th>6075</th>\n",
              "      <td>-1.000</td>\n",
              "      <td>3</td>\n",
              "    </tr>\n",
              "    <tr>\n",
              "      <th>0</th>\n",
              "      <td>0.000</td>\n",
              "      <td>231</td>\n",
              "    </tr>\n",
              "    <tr>\n",
              "      <th>92</th>\n",
              "      <td>0.001</td>\n",
              "      <td>13</td>\n",
              "    </tr>\n",
              "    <tr>\n",
              "      <th>405</th>\n",
              "      <td>0.002</td>\n",
              "      <td>10</td>\n",
              "    </tr>\n",
              "    <tr>\n",
              "      <th>1176</th>\n",
              "      <td>0.003</td>\n",
              "      <td>8</td>\n",
              "    </tr>\n",
              "  </tbody>\n",
              "</table>\n",
              "</div>"
            ],
            "text/plain": [
              "      index  travel_distance\n",
              "6075 -1.000                3\n",
              "0     0.000              231\n",
              "92    0.001               13\n",
              "405   0.002               10\n",
              "1176  0.003                8"
            ]
          },
          "execution_count": 8,
          "metadata": {},
          "output_type": "execute_result"
        }
      ],
      "source": [
        "df['travel_distance'].value_counts().reset_index().sort_values(by = 'index').head()"
      ]
    },
    {
      "cell_type": "code",
      "execution_count": null,
      "metadata": {
        "id": "VfLdeAfrexsh",
        "outputId": "8c5a5141-7372-4caa-81dd-37fd953e5b07"
      },
      "outputs": [
        {
          "name": "stdout",
          "output_type": "stream",
          "text": [
            "zero travel distance trip : 231\n",
            "-1 travel distance trip : 3\n"
          ]
        }
      ],
      "source": [
        "print('zero travel distance trip : ' + str(df.loc[df.travel_distance ==0,:].shape[0]))\n",
        "print('-1 travel distance trip : ' + str(df.loc[df.travel_distance ==-1,:].shape[0]))"
      ]
    },
    {
      "cell_type": "markdown",
      "metadata": {
        "id": "r0ql5qUrexsi"
      },
      "source": [
        "#### Now, - 1 or 0 might correspond to cancelled trips\n",
        "#### lets look at the fare for these absurd 0 and -1 travel distance values."
      ]
    },
    {
      "cell_type": "code",
      "execution_count": null,
      "metadata": {
        "id": "iE0CJTVBexsi",
        "outputId": "9b32640d-6abb-412f-ff3e-20397ccdffca"
      },
      "outputs": [
        {
          "data": {
            "text/plain": [
              "array([20])"
            ]
          },
          "execution_count": 13,
          "metadata": {},
          "output_type": "execute_result"
        }
      ],
      "source": [
        "df.loc[df.travel_distance ==0,'trip_fare'].unique()"
      ]
    },
    {
      "cell_type": "code",
      "execution_count": null,
      "metadata": {
        "scrolled": true,
        "id": "wDDZQC7Sexsi",
        "outputId": "50f7f9a7-7d1a-40c5-99fd-0c3af34be7d5"
      },
      "outputs": [
        {
          "data": {
            "text/plain": [
              "array([5.20500000e-02, 2.42750000e-01, 2.61333330e-01, 1.01450000e-01,\n",
              "       5.07500000e-02, 1.15400000e-01, 7.43990000e+00, 5.65666700e-02,\n",
              "       4.50583330e-01, 6.49333300e-02, 5.16666700e-02, 5.17000000e-02,\n",
              "       4.46666700e-02, 7.37166700e-02, 7.97166700e-02, 1.27983330e-01,\n",
              "       8.98000000e-02, 4.84000000e-02, 1.06516670e-01, 7.51333300e-02,\n",
              "       1.56766670e-01, 5.78000000e-02, 6.35500000e-02, 1.07433330e-01,\n",
              "       5.26333300e-02, 2.01833330e-01, 6.09833300e-02, 7.44166700e-02,\n",
              "       5.09500000e-02, 9.11000000e-02, 1.07100000e-01, 5.57166700e-02,\n",
              "       1.74583330e-01, 7.43833300e-02, 5.21833300e-02, 6.74333300e-02,\n",
              "       7.85666700e-02, 4.95500000e-02, 3.89450000e-01, 1.03750000e-01,\n",
              "       2.72466670e-01, 6.21833300e-02, 5.32666700e-02, 7.19166700e-02,\n",
              "       6.06333300e-02, 1.18183330e-01, 7.02833300e-02, 3.67716670e-01,\n",
              "       9.70000000e-02, 2.21533330e-01, 7.51166700e-02, 8.54000000e-02,\n",
              "       1.68216670e-01, 1.13977833e+01, 1.70731333e+01, 2.11300000e-01,\n",
              "       1.38933330e-01, 1.74183330e-01, 1.98366670e-01, 1.55100000e-01,\n",
              "       5.09333300e-02, 2.32200000e-01, 4.32000000e-02, 5.84166700e-02,\n",
              "       2.68800000e-01, 3.53283330e-01, 7.88833300e-02, 5.00306667e+01,\n",
              "       2.33866670e-01, 3.01150000e-01, 7.98166700e-02, 3.93865000e+00,\n",
              "       9.55166700e-02, 4.73183900e+02, 5.54500000e-02, 2.46900000e-01,\n",
              "       2.58583330e-01, 1.41750000e-01, 7.86833300e-02, 2.89833330e-01,\n",
              "       6.79166700e-02, 1.41616670e-01, 1.33333330e-01, 5.95000000e-02,\n",
              "       5.11466670e-01, 1.45983330e-01, 8.90500000e-02, 1.36733330e-01,\n",
              "       1.21566667e+00, 4.06066670e-01, 1.24150000e-01, 7.80583330e-01,\n",
              "       4.22240000e+00, 3.66333330e-01, 1.23266670e-01, 6.40500000e-02,\n",
              "       1.08966667e+00, 4.92833300e-02, 8.42000000e-02, 7.48000000e-02,\n",
              "       2.69950000e-01, 1.15150000e-01, 5.07366670e-01, 4.70166700e-02,\n",
              "       8.88166700e-02, 7.52166700e-02, 9.04000000e-02, 4.94000000e-02,\n",
              "       2.10866670e-01, 1.08050000e-01, 6.07666700e-02, 1.82883330e-01,\n",
              "       2.79316670e-01, 9.48666700e-02, 5.72833300e-02, 6.70000000e-02,\n",
              "       1.99283330e-01, 6.65500000e-02, 1.56100000e-01, 1.14400000e-01,\n",
              "       7.74833300e-02, 6.04836667e+00, 7.44833300e-02, 4.42200000e-01,\n",
              "       6.47033330e-01, 1.65466670e-01, 3.10066670e-01, 8.02000000e-02,\n",
              "       2.16245667e+01, 3.37515000e+00, 5.00166700e-02, 1.53766670e-01,\n",
              "       7.46000000e-02, 1.97200000e-01, 3.74365000e+00, 9.03666700e-02,\n",
              "       1.54766670e-01, 1.44033330e-01, 8.08333300e-02, 5.70000000e-02,\n",
              "       5.92666700e-02, 1.15583330e-01, 7.54333300e-02, 1.14700000e-01,\n",
              "       4.88600000e+00, 6.63500000e-02, 3.20416670e-01, 2.67951667e+00,\n",
              "       8.83166700e-02, 8.06000000e-02, 7.25500000e-02, 9.25166700e-02,\n",
              "       6.03063333e+00, 6.54000000e-02, 4.09576667e+00, 1.35083330e-01,\n",
              "       5.03500000e-02, 5.61166700e-02, 1.49650000e-01, 7.46666700e-02,\n",
              "       4.98500000e-02, 1.61116670e-01, 7.97833300e-02, 1.95433330e-01,\n",
              "       1.00233330e-01, 6.34333300e-02, 5.06030000e+00, 7.10333300e-02,\n",
              "       1.15949667e+01, 5.09666700e-02, 5.60166700e-02, 7.83333300e-02,\n",
              "       6.21333300e-02, 5.46666700e-02, 3.67533330e-01, 7.63666700e-02,\n",
              "       1.50933330e-01, 8.89666700e-02, 5.37833300e-02, 1.36983330e-01,\n",
              "       9.28166700e-02, 1.18466670e-01, 7.79833300e-02, 6.48666700e-02,\n",
              "       1.03666670e-01, 2.78200000e-01, 7.08833300e-02, 9.76833300e-02,\n",
              "       4.65316670e-01, 7.96666700e-02, 9.59166700e-02, 1.32433330e-01,\n",
              "       5.93833300e-02, 5.41666700e-02, 9.26333300e-02, 2.59516670e-01,\n",
              "       3.88250000e-01, 8.08166670e-01, 7.90666700e-02, 1.09116670e-01,\n",
              "       9.01000000e-02, 1.18866670e-01, 2.45850000e-01, 4.95883330e-01,\n",
              "       5.69666700e-02, 1.45200000e-01, 5.42166700e-02, 9.60500000e-02,\n",
              "       5.21666700e-02, 1.67000000e-01, 2.03333330e-01, 1.21900000e-01,\n",
              "       6.31833300e-02, 5.94833300e-02, 6.81883330e-01, 2.30666670e-01,\n",
              "       5.85650000e-01, 3.11766670e-01, 1.16016670e-01, 5.31666700e-02,\n",
              "       2.39716670e-01, 8.31333300e-02, 3.71550000e-01, 4.84833300e-02,\n",
              "       4.82500000e-01, 2.15783330e-01, 1.52283330e-01, 6.95066670e-01,\n",
              "       1.06433330e-01])"
            ]
          },
          "execution_count": 14,
          "metadata": {},
          "output_type": "execute_result"
        }
      ],
      "source": [
        "df.loc[df.travel_distance ==0,'travel_time'].unique()"
      ]
    },
    {
      "cell_type": "code",
      "execution_count": null,
      "metadata": {
        "id": "e5_SkCDaexsj",
        "outputId": "09437339-4b4d-4fa6-dab7-61a8a6ffd769"
      },
      "outputs": [
        {
          "data": {
            "text/plain": [
              "array([959])"
            ]
          },
          "execution_count": 15,
          "metadata": {},
          "output_type": "execute_result"
        }
      ],
      "source": [
        "df.loc[df.travel_distance ==-1,'trip_fare'].unique()"
      ]
    },
    {
      "cell_type": "code",
      "execution_count": null,
      "metadata": {
        "id": "4Bdm_i5dexsj",
        "outputId": "674cc8ca-a498-4067-d69d-010378349f93"
      },
      "outputs": [
        {
          "data": {
            "text/plain": [
              "array([19.2473667, 11.8386667, 11.01485  ])"
            ]
          },
          "execution_count": 16,
          "metadata": {},
          "output_type": "execute_result"
        }
      ],
      "source": [
        "df.loc[df.travel_distance ==-1,'travel_time'].unique()"
      ]
    },
    {
      "cell_type": "markdown",
      "metadata": {
        "id": "d-n-Wp_lexsj"
      },
      "source": [
        "#### looking at this, it looks like 0 trip distance corresponds to cancelled trip, for which minimum fare of 20 is charged, but -1 still looks like an error. The fare value of 959 also looks absurd. We can remove these 3 values fr any analysis.\n",
        "#### Also, for modeling/predicting trip fare, it makes sense to remove data with 0 travel distance( cancelled trip)  and 3  trips with -1 travel distance and 959 trip fare"
      ]
    },
    {
      "cell_type": "markdown",
      "metadata": {
        "id": "C28Hrl2rexsj"
      },
      "source": [
        "#### Lets look at some more outliers for travel time and trip fare ( their max values seem too high)"
      ]
    },
    {
      "cell_type": "code",
      "execution_count": null,
      "metadata": {
        "id": "Bifkl60jexsk",
        "outputId": "4d9dc363-5cb8-4702-b50a-061a7af89ccb"
      },
      "outputs": [
        {
          "data": {
            "text/html": [
              "<div>\n",
              "<style>\n",
              "    .dataframe thead tr:only-child th {\n",
              "        text-align: right;\n",
              "    }\n",
              "\n",
              "    .dataframe thead th {\n",
              "        text-align: left;\n",
              "    }\n",
              "\n",
              "    .dataframe tbody tr th {\n",
              "        vertical-align: top;\n",
              "    }\n",
              "</style>\n",
              "<table border=\"1\" class=\"dataframe\">\n",
              "  <thead>\n",
              "    <tr style=\"text-align: right;\">\n",
              "      <th></th>\n",
              "      <th>travel_time</th>\n",
              "      <th>travel_distance</th>\n",
              "      <th>trip_fare</th>\n",
              "    </tr>\n",
              "  </thead>\n",
              "  <tbody>\n",
              "    <tr>\n",
              "      <th>10316</th>\n",
              "      <td>4134.388700</td>\n",
              "      <td>6.889</td>\n",
              "      <td>60</td>\n",
              "    </tr>\n",
              "    <tr>\n",
              "      <th>13680</th>\n",
              "      <td>962.766250</td>\n",
              "      <td>5.697</td>\n",
              "      <td>49</td>\n",
              "    </tr>\n",
              "    <tr>\n",
              "      <th>22152</th>\n",
              "      <td>732.629817</td>\n",
              "      <td>0.569</td>\n",
              "      <td>20</td>\n",
              "    </tr>\n",
              "    <tr>\n",
              "      <th>18501</th>\n",
              "      <td>504.808017</td>\n",
              "      <td>0.002</td>\n",
              "      <td>20</td>\n",
              "    </tr>\n",
              "    <tr>\n",
              "      <th>22296</th>\n",
              "      <td>483.307750</td>\n",
              "      <td>1.486</td>\n",
              "      <td>31</td>\n",
              "    </tr>\n",
              "    <tr>\n",
              "      <th>15078</th>\n",
              "      <td>473.183900</td>\n",
              "      <td>0.000</td>\n",
              "      <td>20</td>\n",
              "    </tr>\n",
              "    <tr>\n",
              "      <th>669</th>\n",
              "      <td>467.443383</td>\n",
              "      <td>11.330</td>\n",
              "      <td>113</td>\n",
              "    </tr>\n",
              "    <tr>\n",
              "      <th>38276</th>\n",
              "      <td>357.907550</td>\n",
              "      <td>2.859</td>\n",
              "      <td>36</td>\n",
              "    </tr>\n",
              "    <tr>\n",
              "      <th>32818</th>\n",
              "      <td>276.133667</td>\n",
              "      <td>2.222</td>\n",
              "      <td>34</td>\n",
              "    </tr>\n",
              "    <tr>\n",
              "      <th>42530</th>\n",
              "      <td>267.825483</td>\n",
              "      <td>9.400</td>\n",
              "      <td>1670</td>\n",
              "    </tr>\n",
              "  </tbody>\n",
              "</table>\n",
              "</div>"
            ],
            "text/plain": [
              "       travel_time  travel_distance  trip_fare\n",
              "10316  4134.388700            6.889         60\n",
              "13680   962.766250            5.697         49\n",
              "22152   732.629817            0.569         20\n",
              "18501   504.808017            0.002         20\n",
              "22296   483.307750            1.486         31\n",
              "15078   473.183900            0.000         20\n",
              "669     467.443383           11.330        113\n",
              "38276   357.907550            2.859         36\n",
              "32818   276.133667            2.222         34\n",
              "42530   267.825483            9.400       1670"
            ]
          },
          "execution_count": 17,
          "metadata": {},
          "output_type": "execute_result"
        }
      ],
      "source": [
        "df.loc[:,['travel_time','travel_distance','trip_fare']].sort_values(by = 'travel_time',ascending = False).head(10)"
      ]
    },
    {
      "cell_type": "code",
      "execution_count": null,
      "metadata": {
        "id": "ItKei2Laexsk",
        "outputId": "732a5136-d5c2-4b76-b028-5ec38e741240"
      },
      "outputs": [
        {
          "data": {
            "text/html": [
              "<div>\n",
              "<style>\n",
              "    .dataframe thead tr:only-child th {\n",
              "        text-align: right;\n",
              "    }\n",
              "\n",
              "    .dataframe thead th {\n",
              "        text-align: left;\n",
              "    }\n",
              "\n",
              "    .dataframe tbody tr th {\n",
              "        vertical-align: top;\n",
              "    }\n",
              "</style>\n",
              "<table border=\"1\" class=\"dataframe\">\n",
              "  <thead>\n",
              "    <tr style=\"text-align: right;\">\n",
              "      <th></th>\n",
              "      <th>travel_time</th>\n",
              "      <th>travel_distance</th>\n",
              "      <th>trip_fare</th>\n",
              "    </tr>\n",
              "  </thead>\n",
              "  <tbody>\n",
              "    <tr>\n",
              "      <th>42530</th>\n",
              "      <td>267.825483</td>\n",
              "      <td>9.400</td>\n",
              "      <td>1670</td>\n",
              "    </tr>\n",
              "    <tr>\n",
              "      <th>27304</th>\n",
              "      <td>10.949667</td>\n",
              "      <td>2.700</td>\n",
              "      <td>959</td>\n",
              "    </tr>\n",
              "    <tr>\n",
              "      <th>17206</th>\n",
              "      <td>11.014850</td>\n",
              "      <td>-1.000</td>\n",
              "      <td>959</td>\n",
              "    </tr>\n",
              "    <tr>\n",
              "      <th>145</th>\n",
              "      <td>19.247367</td>\n",
              "      <td>-1.000</td>\n",
              "      <td>959</td>\n",
              "    </tr>\n",
              "    <tr>\n",
              "      <th>36239</th>\n",
              "      <td>1.596217</td>\n",
              "      <td>1.000</td>\n",
              "      <td>959</td>\n",
              "    </tr>\n",
              "    <tr>\n",
              "      <th>26722</th>\n",
              "      <td>10.143917</td>\n",
              "      <td>4.000</td>\n",
              "      <td>959</td>\n",
              "    </tr>\n",
              "    <tr>\n",
              "      <th>12636</th>\n",
              "      <td>11.838667</td>\n",
              "      <td>-1.000</td>\n",
              "      <td>959</td>\n",
              "    </tr>\n",
              "    <tr>\n",
              "      <th>7165</th>\n",
              "      <td>14.164500</td>\n",
              "      <td>52.801</td>\n",
              "      <td>593</td>\n",
              "    </tr>\n",
              "    <tr>\n",
              "      <th>18259</th>\n",
              "      <td>98.218850</td>\n",
              "      <td>46.747</td>\n",
              "      <td>521</td>\n",
              "    </tr>\n",
              "    <tr>\n",
              "      <th>213</th>\n",
              "      <td>83.046817</td>\n",
              "      <td>40.543</td>\n",
              "      <td>445</td>\n",
              "    </tr>\n",
              "  </tbody>\n",
              "</table>\n",
              "</div>"
            ],
            "text/plain": [
              "       travel_time  travel_distance  trip_fare\n",
              "42530   267.825483            9.400       1670\n",
              "27304    10.949667            2.700        959\n",
              "17206    11.014850           -1.000        959\n",
              "145      19.247367           -1.000        959\n",
              "36239     1.596217            1.000        959\n",
              "26722    10.143917            4.000        959\n",
              "12636    11.838667           -1.000        959\n",
              "7165     14.164500           52.801        593\n",
              "18259    98.218850           46.747        521\n",
              "213      83.046817           40.543        445"
            ]
          },
          "execution_count": 18,
          "metadata": {},
          "output_type": "execute_result"
        }
      ],
      "source": [
        "df.loc[:,['travel_time','travel_distance','trip_fare']].sort_values(by = 'trip_fare',ascending = False).head(10)"
      ]
    },
    {
      "cell_type": "markdown",
      "metadata": {
        "id": "NpDGc3o4exsk"
      },
      "source": [
        "#### There obviously are some absurdly high values for travel time and trip fare. for example, a travle time of 4134, with fare of just 60 and distance of 6 . Similary, a trip fare of  959 with travel time of 10.9 and distance of 2.7\n",
        "## NOTE : We will need to remove these outliers for predicting trip fare using distance and time as these can influence our regression model. Lets call these influence points and we will use leverage or influence statistics to remove these"
      ]
    },
    {
      "cell_type": "markdown",
      "metadata": {
        "id": "pKsuMCg2exsl"
      },
      "source": [
        "### Some descriptive univariate visuals for continuous data distribution"
      ]
    },
    {
      "cell_type": "code",
      "execution_count": null,
      "metadata": {
        "id": "ExqdHTaBexsl",
        "outputId": "1e7d8fe0-f73c-4dcf-eef6-89a66d9aec06"
      },
      "outputs": [
        {
          "data": {
            "image/png": "[encoded data removed]",
            "text/plain": [
              "<matplotlib.figure.Figure at 0x1a0e4c4198>"
            ]
          },
          "metadata": {},
          "output_type": "display_data"
        }
      ],
      "source": [
        "sns.set(style=\"whitegrid\", palette=\"pastel\", color_codes=True)\n",
        "fig_dims = (16, 10)\n",
        "fig, ax = plt.subplots(nrows = 3, ncols = 2,figsize=fig_dims)\n",
        "\n",
        "sns.boxplot(df['travel_distance'],ax=ax[0,0]);\n",
        "sns.kdeplot(df['travel_distance'],ax=ax[0,1]);\n",
        "\n",
        "sns.boxplot(df['travel_time'],ax=ax[1,0]);\n",
        "sns.kdeplot(df['travel_time'],ax=ax[1,1]);\n",
        "\n",
        "sns.boxplot(df['trip_fare'],ax=ax[2,0]);\n",
        "sns.kdeplot(df['trip_fare'],ax=ax[2,1]);\n",
        "\n",
        "fig.tight_layout()"
      ]
    },
    {
      "cell_type": "markdown",
      "metadata": {
        "id": "xFzTQw5Lexsl"
      },
      "source": [
        "### Time variables : timestamp"
      ]
    },
    {
      "cell_type": "code",
      "execution_count": null,
      "metadata": {
        "collapsed": true,
        "id": "lPiVFd1Sexsm"
      },
      "outputs": [],
      "source": [
        "df['timestamp_2'] = df.apply(lambda x: datetime.datetime.fromtimestamp(x['timestamp'] / 1e3) ,axis=1)\n",
        "df['weekday'] = df.apply(lambda x : x['timestamp_2'].strftime('%A'),axis = 1)"
      ]
    },
    {
      "cell_type": "code",
      "execution_count": null,
      "metadata": {
        "id": "DrOOiaYyexsm",
        "outputId": "78b5b194-4e0d-4060-ad66-4dfc66c4d602"
      },
      "outputs": [
        {
          "data": {
            "text/html": [
              "<div>\n",
              "<style>\n",
              "    .dataframe thead tr:only-child th {\n",
              "        text-align: right;\n",
              "    }\n",
              "\n",
              "    .dataframe thead th {\n",
              "        text-align: left;\n",
              "    }\n",
              "\n",
              "    .dataframe tbody tr th {\n",
              "        vertical-align: top;\n",
              "    }\n",
              "</style>\n",
              "<table border=\"1\" class=\"dataframe\">\n",
              "  <thead>\n",
              "    <tr style=\"text-align: right;\">\n",
              "      <th></th>\n",
              "      <th>trip_id</th>\n",
              "      <th>customer_id</th>\n",
              "      <th>timestamp</th>\n",
              "      <th>pick_lat</th>\n",
              "      <th>pick_lng</th>\n",
              "      <th>drop_lat</th>\n",
              "      <th>drop_lng</th>\n",
              "      <th>travel_distance</th>\n",
              "      <th>travel_time</th>\n",
              "      <th>trip_fare</th>\n",
              "      <th>timestamp_2</th>\n",
              "      <th>weekday</th>\n",
              "    </tr>\n",
              "  </thead>\n",
              "  <tbody>\n",
              "    <tr>\n",
              "      <th>0</th>\n",
              "      <td>ID001</td>\n",
              "      <td>CUST_001</td>\n",
              "      <td>1546709270211</td>\n",
              "      <td>17.442705</td>\n",
              "      <td>78.387878</td>\n",
              "      <td>17.457829</td>\n",
              "      <td>78.399056</td>\n",
              "      <td>2.806</td>\n",
              "      <td>12.609667</td>\n",
              "      <td>37</td>\n",
              "      <td>2019-01-05 22:57:50.211</td>\n",
              "      <td>Saturday</td>\n",
              "    </tr>\n",
              "    <tr>\n",
              "      <th>1389</th>\n",
              "      <td>ID1390</td>\n",
              "      <td>CUST_001</td>\n",
              "      <td>1546871083066</td>\n",
              "      <td>17.451511</td>\n",
              "      <td>78.370468</td>\n",
              "      <td>17.443994</td>\n",
              "      <td>78.363037</td>\n",
              "      <td>10.624</td>\n",
              "      <td>26.600417</td>\n",
              "      <td>99</td>\n",
              "      <td>2019-01-07 19:54:43.066</td>\n",
              "      <td>Monday</td>\n",
              "    </tr>\n",
              "    <tr>\n",
              "      <th>1866</th>\n",
              "      <td>ID1867</td>\n",
              "      <td>CUST_001</td>\n",
              "      <td>1546873649099</td>\n",
              "      <td>17.421120</td>\n",
              "      <td>78.339172</td>\n",
              "      <td>17.426586</td>\n",
              "      <td>78.324600</td>\n",
              "      <td>10.896</td>\n",
              "      <td>33.192900</td>\n",
              "      <td>107</td>\n",
              "      <td>2019-01-07 20:37:29.099</td>\n",
              "      <td>Monday</td>\n",
              "    </tr>\n",
              "    <tr>\n",
              "      <th>4983</th>\n",
              "      <td>ID4984</td>\n",
              "      <td>CUST_001</td>\n",
              "      <td>1546765642873</td>\n",
              "      <td>17.340305</td>\n",
              "      <td>78.543899</td>\n",
              "      <td>17.340197</td>\n",
              "      <td>78.543892</td>\n",
              "      <td>3.547</td>\n",
              "      <td>8.611033</td>\n",
              "      <td>41</td>\n",
              "      <td>2019-01-06 14:37:22.873</td>\n",
              "      <td>Sunday</td>\n",
              "    </tr>\n",
              "    <tr>\n",
              "      <th>5269</th>\n",
              "      <td>ID5270</td>\n",
              "      <td>CUST_001</td>\n",
              "      <td>1546769557670</td>\n",
              "      <td>17.441196</td>\n",
              "      <td>78.391518</td>\n",
              "      <td>17.441196</td>\n",
              "      <td>78.391518</td>\n",
              "      <td>7.523</td>\n",
              "      <td>17.608217</td>\n",
              "      <td>73</td>\n",
              "      <td>2019-01-06 15:42:37.670</td>\n",
              "      <td>Sunday</td>\n",
              "    </tr>\n",
              "    <tr>\n",
              "      <th>5528</th>\n",
              "      <td>ID5529</td>\n",
              "      <td>CUST_001</td>\n",
              "      <td>1546773038937</td>\n",
              "      <td>17.465193</td>\n",
              "      <td>78.341629</td>\n",
              "      <td>17.447012</td>\n",
              "      <td>78.373169</td>\n",
              "      <td>3.869</td>\n",
              "      <td>18.290983</td>\n",
              "      <td>54</td>\n",
              "      <td>2019-01-06 16:40:38.937</td>\n",
              "      <td>Sunday</td>\n",
              "    </tr>\n",
              "    <tr>\n",
              "      <th>33261</th>\n",
              "      <td>ID33262</td>\n",
              "      <td>CUST_001</td>\n",
              "      <td>1546676690138</td>\n",
              "      <td>17.504282</td>\n",
              "      <td>78.396835</td>\n",
              "      <td>17.440559</td>\n",
              "      <td>78.397995</td>\n",
              "      <td>3.562</td>\n",
              "      <td>8.069667</td>\n",
              "      <td>41</td>\n",
              "      <td>2019-01-05 13:54:50.138</td>\n",
              "      <td>Saturday</td>\n",
              "    </tr>\n",
              "    <tr>\n",
              "      <th>36625</th>\n",
              "      <td>ID36626</td>\n",
              "      <td>CUST_001</td>\n",
              "      <td>1546702978281</td>\n",
              "      <td>17.454794</td>\n",
              "      <td>78.375389</td>\n",
              "      <td>17.434425</td>\n",
              "      <td>78.422028</td>\n",
              "      <td>4.079</td>\n",
              "      <td>8.160700</td>\n",
              "      <td>43</td>\n",
              "      <td>2019-01-05 21:12:58.281</td>\n",
              "      <td>Saturday</td>\n",
              "    </tr>\n",
              "  </tbody>\n",
              "</table>\n",
              "</div>"
            ],
            "text/plain": [
              "       trip_id customer_id      timestamp   pick_lat   pick_lng   drop_lat  \\\n",
              "0        ID001    CUST_001  1546709270211  17.442705  78.387878  17.457829   \n",
              "1389    ID1390    CUST_001  1546871083066  17.451511  78.370468  17.443994   \n",
              "1866    ID1867    CUST_001  1546873649099  17.421120  78.339172  17.426586   \n",
              "4983    ID4984    CUST_001  1546765642873  17.340305  78.543899  17.340197   \n",
              "5269    ID5270    CUST_001  1546769557670  17.441196  78.391518  17.441196   \n",
              "5528    ID5529    CUST_001  1546773038937  17.465193  78.341629  17.447012   \n",
              "33261  ID33262    CUST_001  1546676690138  17.504282  78.396835  17.440559   \n",
              "36625  ID36626    CUST_001  1546702978281  17.454794  78.375389  17.434425   \n",
              "\n",
              "        drop_lng  travel_distance  travel_time  trip_fare  \\\n",
              "0      78.399056            2.806    12.609667         37   \n",
              "1389   78.363037           10.624    26.600417         99   \n",
              "1866   78.324600           10.896    33.192900        107   \n",
              "4983   78.543892            3.547     8.611033         41   \n",
              "5269   78.391518            7.523    17.608217         73   \n",
              "5528   78.373169            3.869    18.290983         54   \n",
              "33261  78.397995            3.562     8.069667         41   \n",
              "36625  78.422028            4.079     8.160700         43   \n",
              "\n",
              "                  timestamp_2   weekday  \n",
              "0     2019-01-05 22:57:50.211  Saturday  \n",
              "1389  2019-01-07 19:54:43.066    Monday  \n",
              "1866  2019-01-07 20:37:29.099    Monday  \n",
              "4983  2019-01-06 14:37:22.873    Sunday  \n",
              "5269  2019-01-06 15:42:37.670    Sunday  \n",
              "5528  2019-01-06 16:40:38.937    Sunday  \n",
              "33261 2019-01-05 13:54:50.138  Saturday  \n",
              "36625 2019-01-05 21:12:58.281  Saturday  "
            ]
          },
          "execution_count": 9,
          "metadata": {},
          "output_type": "execute_result"
        }
      ],
      "source": [
        "df.loc[df['customer_id'] == 'CUST_001',:]"
      ]
    },
    {
      "cell_type": "code",
      "execution_count": null,
      "metadata": {
        "id": "mJbfJ03Wexsm",
        "outputId": "8079c21d-c47f-49fa-de6a-b436112f3b4a"
      },
      "outputs": [
        {
          "data": {
            "text/html": [
              "<div>\n",
              "<style>\n",
              "    .dataframe thead tr:only-child th {\n",
              "        text-align: right;\n",
              "    }\n",
              "\n",
              "    .dataframe thead th {\n",
              "        text-align: left;\n",
              "    }\n",
              "\n",
              "    .dataframe tbody tr th {\n",
              "        vertical-align: top;\n",
              "    }\n",
              "</style>\n",
              "<table border=\"1\" class=\"dataframe\">\n",
              "  <thead>\n",
              "    <tr style=\"text-align: right;\">\n",
              "      <th></th>\n",
              "      <th>trip_id</th>\n",
              "      <th>customer_id</th>\n",
              "      <th>timestamp</th>\n",
              "      <th>pick_lat</th>\n",
              "      <th>pick_lng</th>\n",
              "      <th>drop_lat</th>\n",
              "      <th>drop_lng</th>\n",
              "      <th>travel_distance</th>\n",
              "      <th>travel_time</th>\n",
              "      <th>trip_fare</th>\n",
              "      <th>timestamp_2</th>\n",
              "      <th>weekday</th>\n",
              "    </tr>\n",
              "  </thead>\n",
              "  <tbody>\n",
              "    <tr>\n",
              "      <th>0</th>\n",
              "      <td>ID001</td>\n",
              "      <td>CUST_001</td>\n",
              "      <td>1546709270211</td>\n",
              "      <td>17.442705</td>\n",
              "      <td>78.387878</td>\n",
              "      <td>17.457829</td>\n",
              "      <td>78.399056</td>\n",
              "      <td>2.806</td>\n",
              "      <td>12.609667</td>\n",
              "      <td>37</td>\n",
              "      <td>2019-01-05 22:57:50.211</td>\n",
              "      <td>Saturday</td>\n",
              "    </tr>\n",
              "    <tr>\n",
              "      <th>1</th>\n",
              "      <td>ID002</td>\n",
              "      <td>CUST_002</td>\n",
              "      <td>1546709309524</td>\n",
              "      <td>17.490189</td>\n",
              "      <td>78.415512</td>\n",
              "      <td>17.450548</td>\n",
              "      <td>78.367294</td>\n",
              "      <td>11.991</td>\n",
              "      <td>24.075200</td>\n",
              "      <td>119</td>\n",
              "      <td>2019-01-05 22:58:29.524</td>\n",
              "      <td>Saturday</td>\n",
              "    </tr>\n",
              "    <tr>\n",
              "      <th>2</th>\n",
              "      <td>ID003</td>\n",
              "      <td>CUST_003</td>\n",
              "      <td>1546709331857</td>\n",
              "      <td>17.370108</td>\n",
              "      <td>78.515045</td>\n",
              "      <td>17.377041</td>\n",
              "      <td>78.517921</td>\n",
              "      <td>1.322</td>\n",
              "      <td>8.708300</td>\n",
              "      <td>27</td>\n",
              "      <td>2019-01-05 22:58:51.857</td>\n",
              "      <td>Saturday</td>\n",
              "    </tr>\n",
              "    <tr>\n",
              "      <th>3</th>\n",
              "      <td>ID004</td>\n",
              "      <td>CUST_004</td>\n",
              "      <td>1546709358403</td>\n",
              "      <td>17.439314</td>\n",
              "      <td>78.443001</td>\n",
              "      <td>17.397131</td>\n",
              "      <td>78.516586</td>\n",
              "      <td>11.822</td>\n",
              "      <td>24.037550</td>\n",
              "      <td>121</td>\n",
              "      <td>2019-01-05 22:59:18.403</td>\n",
              "      <td>Saturday</td>\n",
              "    </tr>\n",
              "    <tr>\n",
              "      <th>4</th>\n",
              "      <td>ID005</td>\n",
              "      <td>CUST_005</td>\n",
              "      <td>1546709386884</td>\n",
              "      <td>17.432325</td>\n",
              "      <td>78.381966</td>\n",
              "      <td>17.401625</td>\n",
              "      <td>78.400032</td>\n",
              "      <td>6.978</td>\n",
              "      <td>16.120867</td>\n",
              "      <td>58</td>\n",
              "      <td>2019-01-05 22:59:46.884</td>\n",
              "      <td>Saturday</td>\n",
              "    </tr>\n",
              "  </tbody>\n",
              "</table>\n",
              "</div>"
            ],
            "text/plain": [
              "  trip_id customer_id      timestamp   pick_lat   pick_lng   drop_lat  \\\n",
              "0   ID001    CUST_001  1546709270211  17.442705  78.387878  17.457829   \n",
              "1   ID002    CUST_002  1546709309524  17.490189  78.415512  17.450548   \n",
              "2   ID003    CUST_003  1546709331857  17.370108  78.515045  17.377041   \n",
              "3   ID004    CUST_004  1546709358403  17.439314  78.443001  17.397131   \n",
              "4   ID005    CUST_005  1546709386884  17.432325  78.381966  17.401625   \n",
              "\n",
              "    drop_lng  travel_distance  travel_time  trip_fare             timestamp_2  \\\n",
              "0  78.399056            2.806    12.609667         37 2019-01-05 22:57:50.211   \n",
              "1  78.367294           11.991    24.075200        119 2019-01-05 22:58:29.524   \n",
              "2  78.517921            1.322     8.708300         27 2019-01-05 22:58:51.857   \n",
              "3  78.516586           11.822    24.037550        121 2019-01-05 22:59:18.403   \n",
              "4  78.400032            6.978    16.120867         58 2019-01-05 22:59:46.884   \n",
              "\n",
              "    weekday  \n",
              "0  Saturday  \n",
              "1  Saturday  \n",
              "2  Saturday  \n",
              "3  Saturday  \n",
              "4  Saturday  "
            ]
          },
          "execution_count": 4,
          "metadata": {},
          "output_type": "execute_result"
        }
      ],
      "source": [
        "df.head()"
      ]
    },
    {
      "cell_type": "code",
      "execution_count": null,
      "metadata": {
        "id": "Eqw-AIh_exsm",
        "outputId": "30c6e2e6-cb0c-4323-cd5f-23d19add34a4"
      },
      "outputs": [
        {
          "name": "stdout",
          "output_type": "stream",
          "text": [
            "min date : 2019-01-02 00:02:07.135000\n",
            "max date : 2019-01-07 23:59:25.111000\n",
            "days of data given : 5 days 23:57:17.976000\n"
          ]
        }
      ],
      "source": [
        "print('min date : ' + str(df['timestamp_2'].min()))\n",
        "print('max date : ' + str(df['timestamp_2'].max()))\n",
        "print('days of data given : ' + str(df['timestamp_2'].max() - df['timestamp_2'].min() ))"
      ]
    },
    {
      "cell_type": "code",
      "execution_count": null,
      "metadata": {
        "id": "pKEC0B1uexsn",
        "outputId": "f5656ee8-9bd6-449e-ca5b-e6d2a035565b"
      },
      "outputs": [
        {
          "name": "stdout",
          "output_type": "stream",
          "text": [
            "Monday       20.0\n",
            "Friday       19.0\n",
            "Thursday     18.0\n",
            "Wednesday    17.4\n",
            "Saturday     15.4\n",
            "Sunday       10.3\n",
            "Name: weekday, dtype: float64\n"
          ]
        },
        {
          "data": {
            "image/png": "[encoded data removed]",
            "text/plain": [
              "<matplotlib.figure.Figure at 0x1c1bff47b8>"
            ]
          },
          "metadata": {},
          "output_type": "display_data"
        }
      ],
      "source": [
        "groupedvalues = df.groupby('weekday').count().reset_index()\n",
        "g=sns.barplot(x='weekday',y='trip_id',data=groupedvalues)\n",
        "for index, row in groupedvalues.iterrows():\n",
        "    g.text(row.name,row.trip_id, round(row.trip_id,2), color='black', ha=\"center\")\n",
        "    \n",
        "print(round(df['weekday'].value_counts() * 100/df.shape[0],1))"
      ]
    },
    {
      "cell_type": "markdown",
      "metadata": {
        "id": "qqaBIOhSexsn"
      },
      "source": [
        "#### We only have 6 days of data, no tuesday !!"
      ]
    },
    {
      "cell_type": "markdown",
      "metadata": {
        "id": "PMc2Gg2Qexsn"
      },
      "source": [
        "### Other metrices based on trip id and customer id"
      ]
    },
    {
      "cell_type": "code",
      "execution_count": null,
      "metadata": {
        "id": "f5VEmVNEexsn",
        "outputId": "6545b8ec-016d-4d1a-cab9-9ed7c78cf01a"
      },
      "outputs": [
        {
          "name": "stdout",
          "output_type": "stream",
          "text": [
            "unique trips : 44587\n",
            "unique customers : 19139\n",
            "avg trips per customer : 2.33\n"
          ]
        }
      ],
      "source": [
        "print('unique trips : ' + str(df['trip_id'].nunique()))\n",
        "print('unique customers : ' + str(df['customer_id'].nunique()))\n",
        "print('avg trips per customer : ' + str(round(df['trip_id'].nunique() / df['customer_id'].nunique() , 2)))"
      ]
    },
    {
      "cell_type": "code",
      "execution_count": null,
      "metadata": {
        "id": "vocjb00dexso",
        "outputId": "7db96a04-4685-48c3-e40c-acc7e5f447a7"
      },
      "outputs": [
        {
          "data": {
            "text/html": [
              "<div>\n",
              "<style>\n",
              "    .dataframe thead tr:only-child th {\n",
              "        text-align: right;\n",
              "    }\n",
              "\n",
              "    .dataframe thead th {\n",
              "        text-align: left;\n",
              "    }\n",
              "\n",
              "    .dataframe tbody tr th {\n",
              "        vertical-align: top;\n",
              "    }\n",
              "</style>\n",
              "<table border=\"1\" class=\"dataframe\">\n",
              "  <thead>\n",
              "    <tr style=\"text-align: right;\">\n",
              "      <th></th>\n",
              "      <th>index</th>\n",
              "      <th>trip_count</th>\n",
              "      <th>Percent</th>\n",
              "    </tr>\n",
              "  </thead>\n",
              "  <tbody>\n",
              "    <tr>\n",
              "      <th>0</th>\n",
              "      <td>1</td>\n",
              "      <td>10009</td>\n",
              "      <td>52.296358</td>\n",
              "    </tr>\n",
              "    <tr>\n",
              "      <th>1</th>\n",
              "      <td>2</td>\n",
              "      <td>3884</td>\n",
              "      <td>20.293641</td>\n",
              "    </tr>\n",
              "    <tr>\n",
              "      <th>2</th>\n",
              "      <td>3</td>\n",
              "      <td>1741</td>\n",
              "      <td>9.096609</td>\n",
              "    </tr>\n",
              "    <tr>\n",
              "      <th>3</th>\n",
              "      <td>4</td>\n",
              "      <td>1144</td>\n",
              "      <td>5.977324</td>\n",
              "    </tr>\n",
              "    <tr>\n",
              "      <th>4</th>\n",
              "      <td>5</td>\n",
              "      <td>730</td>\n",
              "      <td>3.814201</td>\n",
              "    </tr>\n",
              "    <tr>\n",
              "      <th>5</th>\n",
              "      <td>6</td>\n",
              "      <td>483</td>\n",
              "      <td>2.523643</td>\n",
              "    </tr>\n",
              "    <tr>\n",
              "      <th>6</th>\n",
              "      <td>7</td>\n",
              "      <td>333</td>\n",
              "      <td>1.739903</td>\n",
              "    </tr>\n",
              "    <tr>\n",
              "      <th>7</th>\n",
              "      <td>8</td>\n",
              "      <td>282</td>\n",
              "      <td>1.473431</td>\n",
              "    </tr>\n",
              "    <tr>\n",
              "      <th>8</th>\n",
              "      <td>9</td>\n",
              "      <td>169</td>\n",
              "      <td>0.883014</td>\n",
              "    </tr>\n",
              "    <tr>\n",
              "      <th>9</th>\n",
              "      <td>10</td>\n",
              "      <td>136</td>\n",
              "      <td>0.710591</td>\n",
              "    </tr>\n",
              "    <tr>\n",
              "      <th>10</th>\n",
              "      <td>11</td>\n",
              "      <td>75</td>\n",
              "      <td>0.391870</td>\n",
              "    </tr>\n",
              "    <tr>\n",
              "      <th>11</th>\n",
              "      <td>12</td>\n",
              "      <td>57</td>\n",
              "      <td>0.297821</td>\n",
              "    </tr>\n",
              "    <tr>\n",
              "      <th>12</th>\n",
              "      <td>13</td>\n",
              "      <td>34</td>\n",
              "      <td>0.177648</td>\n",
              "    </tr>\n",
              "    <tr>\n",
              "      <th>13</th>\n",
              "      <td>14</td>\n",
              "      <td>18</td>\n",
              "      <td>0.094049</td>\n",
              "    </tr>\n",
              "    <tr>\n",
              "      <th>14</th>\n",
              "      <td>15</td>\n",
              "      <td>14</td>\n",
              "      <td>0.073149</td>\n",
              "    </tr>\n",
              "    <tr>\n",
              "      <th>15</th>\n",
              "      <td>16</td>\n",
              "      <td>10</td>\n",
              "      <td>0.052249</td>\n",
              "    </tr>\n",
              "    <tr>\n",
              "      <th>16</th>\n",
              "      <td>19</td>\n",
              "      <td>4</td>\n",
              "      <td>0.020900</td>\n",
              "    </tr>\n",
              "    <tr>\n",
              "      <th>17</th>\n",
              "      <td>18</td>\n",
              "      <td>4</td>\n",
              "      <td>0.020900</td>\n",
              "    </tr>\n",
              "    <tr>\n",
              "      <th>18</th>\n",
              "      <td>17</td>\n",
              "      <td>4</td>\n",
              "      <td>0.020900</td>\n",
              "    </tr>\n",
              "    <tr>\n",
              "      <th>19</th>\n",
              "      <td>21</td>\n",
              "      <td>3</td>\n",
              "      <td>0.015675</td>\n",
              "    </tr>\n",
              "    <tr>\n",
              "      <th>20</th>\n",
              "      <td>20</td>\n",
              "      <td>2</td>\n",
              "      <td>0.010450</td>\n",
              "    </tr>\n",
              "    <tr>\n",
              "      <th>21</th>\n",
              "      <td>25</td>\n",
              "      <td>2</td>\n",
              "      <td>0.010450</td>\n",
              "    </tr>\n",
              "    <tr>\n",
              "      <th>22</th>\n",
              "      <td>53</td>\n",
              "      <td>1</td>\n",
              "      <td>0.005225</td>\n",
              "    </tr>\n",
              "  </tbody>\n",
              "</table>\n",
              "</div>"
            ],
            "text/plain": [
              "    index  trip_count    Percent\n",
              "0       1       10009  52.296358\n",
              "1       2        3884  20.293641\n",
              "2       3        1741   9.096609\n",
              "3       4        1144   5.977324\n",
              "4       5         730   3.814201\n",
              "5       6         483   2.523643\n",
              "6       7         333   1.739903\n",
              "7       8         282   1.473431\n",
              "8       9         169   0.883014\n",
              "9      10         136   0.710591\n",
              "10     11          75   0.391870\n",
              "11     12          57   0.297821\n",
              "12     13          34   0.177648\n",
              "13     14          18   0.094049\n",
              "14     15          14   0.073149\n",
              "15     16          10   0.052249\n",
              "16     19           4   0.020900\n",
              "17     18           4   0.020900\n",
              "18     17           4   0.020900\n",
              "19     21           3   0.015675\n",
              "20     20           2   0.010450\n",
              "21     25           2   0.010450\n",
              "22     53           1   0.005225"
            ]
          },
          "execution_count": 24,
          "metadata": {},
          "output_type": "execute_result"
        }
      ],
      "source": [
        "groupedvalues = df.groupby(by = 'customer_id').count()['trip_id'].value_counts().reset_index(name = 'trip_count')\n",
        "groupedvalues['Percent'] = groupedvalues['trip_count'] * 100 / df['customer_id'].nunique()\n",
        "groupedvalues"
      ]
    },
    {
      "cell_type": "code",
      "execution_count": null,
      "metadata": {
        "id": "jDM6i-MFexso",
        "outputId": "30a9903d-a040-4402-c8e0-20c33848fad3"
      },
      "outputs": [
        {
          "data": {
            "image/png": "[encoded data removed]",
            "text/plain": [
              "<matplotlib.figure.Figure at 0x1c1bfbfda0>"
            ]
          },
          "metadata": {},
          "output_type": "display_data"
        }
      ],
      "source": [
        "fig_dims = (14, 8)\n",
        "fig, ax = plt.subplots(nrows = 1, ncols = 1,figsize=fig_dims)\n",
        "g=sns.barplot(x='index',y='trip_count',data=groupedvalues)\n",
        "for index, row in groupedvalues.iterrows():\n",
        "    g.text(row.name,row.Percent, round(row.Percent,2), color='black', ha=\"center\")"
      ]
    },
    {
      "cell_type": "markdown",
      "metadata": {
        "id": "JovzOfeUexso"
      },
      "source": [
        "### Correlation between variables"
      ]
    },
    {
      "cell_type": "code",
      "execution_count": null,
      "metadata": {
        "id": "RJCFyQpIexso",
        "outputId": "96bd0f4e-aa03-4cbb-ab17-cb85cf082c06"
      },
      "outputs": [
        {
          "data": {
            "text/plain": [
              "Index(['trip_id', 'customer_id', 'timestamp', 'pick_lat', 'pick_lng',\n",
              "       'drop_lat', 'drop_lng', 'travel_distance', 'travel_time', 'trip_fare',\n",
              "       'timestamp_2', 'weekday'],\n",
              "      dtype='object')"
            ]
          },
          "execution_count": 26,
          "metadata": {},
          "output_type": "execute_result"
        }
      ],
      "source": [
        "df.columns"
      ]
    },
    {
      "cell_type": "code",
      "execution_count": null,
      "metadata": {
        "id": "Qg6T6GZRexsp",
        "outputId": "03b23374-4ff2-45ed-e09c-a4623abafa60"
      },
      "outputs": [
        {
          "data": {
            "image/png": "[encoded data removed]",
            "text/plain": [
              "<matplotlib.figure.Figure at 0x1c1bc03470>"
            ]
          },
          "metadata": {},
          "output_type": "display_data"
        }
      ],
      "source": [
        "fig_dims = (5, 3)\n",
        "fig, ax = plt.subplots(nrows = 1, ncols = 1,figsize=fig_dims)\n",
        "\n",
        "columns = ['travel_distance','travel_time','trip_fare']\n",
        "\n",
        "matrix = np.triu(df[columns].corr())\n",
        "sns.heatmap(df[columns].corr(), annot=True, mask=matrix,vmin=-1, vmax=1, center= 0, cmap= 'coolwarm',fmt='.1g',linewidths=0.5, linecolor='black');\n"
      ]
    },
    {
      "cell_type": "code",
      "execution_count": null,
      "metadata": {
        "id": "fGiQXwEAexsp",
        "outputId": "128e52dc-3daa-471e-b4da-a12ee27be3b1"
      },
      "outputs": [
        {
          "data": {
            "image/png": "[encoded data removed]",
            "text/plain": [
              "<matplotlib.figure.Figure at 0x1c1bfbd940>"
            ]
          },
          "metadata": {},
          "output_type": "display_data"
        }
      ],
      "source": [
        "sns.jointplot(\"travel_distance\", \"trip_fare\", data=df, kind=\"reg\");"
      ]
    },
    {
      "cell_type": "code",
      "execution_count": null,
      "metadata": {
        "id": "0YkqbNQiexsp",
        "outputId": "b4e3e80c-0e3a-4e4c-fb8e-6191ba86898c"
      },
      "outputs": [
        {
          "data": {
            "image/png": "[encoded data removed]",
            "text/plain": [
              "<matplotlib.figure.Figure at 0x1c1bc03e80>"
            ]
          },
          "metadata": {},
          "output_type": "display_data"
        }
      ],
      "source": [
        "sns.jointplot(\"travel_time\", \"trip_fare\", data=df, kind=\"reg\");"
      ]
    },
    {
      "cell_type": "code",
      "execution_count": null,
      "metadata": {
        "id": "YRdxqWJkexsp",
        "outputId": "e4eba5e6-abed-43a4-f533-2afc01a94436"
      },
      "outputs": [
        {
          "data": {
            "image/png": "[encoded data removed]",
            "text/plain": [
              "<matplotlib.figure.Figure at 0x1c1ba935c0>"
            ]
          },
          "metadata": {},
          "output_type": "display_data"
        }
      ],
      "source": [
        "sns.jointplot(\"travel_time\", \"travel_distance\", data=df, kind=\"reg\");"
      ]
    },
    {
      "cell_type": "code",
      "execution_count": null,
      "metadata": {
        "id": "uSfIieOfexsq",
        "outputId": "3c4ac65a-e0ef-4bbf-c615-a03a3a696b38"
      },
      "outputs": [
        {
          "data": {
            "image/png": "[encoded data removed]",
            "text/plain": [
              "<matplotlib.figure.Figure at 0x1c119e23c8>"
            ]
          },
          "metadata": {},
          "output_type": "display_data"
        }
      ],
      "source": [
        "df['distance_time_mult'] = df['travel_time'] * df['travel_distance']\n",
        "sns.jointplot(\"distance_time_mult\", \"trip_fare\", data=df, kind=\"reg\");"
      ]
    },
    {
      "cell_type": "code",
      "execution_count": null,
      "metadata": {
        "id": "gGtl_WK_exsq",
        "outputId": "66288705-ef3d-401b-ddb7-53a714a5deac"
      },
      "outputs": [
        {
          "data": {
            "image/png": "[encoded data removed]",
            "text/plain": [
              "<matplotlib.figure.Figure at 0x1c0ff64c50>"
            ]
          },
          "metadata": {},
          "output_type": "display_data"
        }
      ],
      "source": [
        "grouped = df.groupby(by = 'weekday').mean()['trip_fare'].reset_index()\n",
        "g = sns.barplot(x = 'weekday' , y = 'trip_fare' , data = grouped)\n",
        "for index, row in grouped.iterrows():\n",
        "    g.text(row.name,row.trip_fare, round(row.trip_fare,2), color='black', ha=\"center\")"
      ]
    },
    {
      "cell_type": "markdown",
      "metadata": {
        "id": "ClxDJRAtexsq"
      },
      "source": [
        "# PART 2 : Metric Calculation\n",
        "What is the average duration between the 1st trip and the 2nd trip of customers? Note: Consider only the customers who have done 2 or more trips."
      ]
    },
    {
      "cell_type": "code",
      "execution_count": null,
      "metadata": {
        "collapsed": true,
        "id": "1eTeS9JOexsq"
      },
      "outputs": [],
      "source": [
        "df['customer_trip_order'] =  df.groupby(by = \"customer_id\")['timestamp_2'].rank()\n",
        "df = df.sort_values(by = ['customer_id','timestamp_2'])\n",
        "df['timestamp_lagged'] = df.groupby(['customer_id'])['timestamp_2'].shift(1)\n",
        "df['diff'] = df.loc[df.customer_trip_order == 2,'timestamp_2'] - df.loc[df.customer_trip_order == 2,'timestamp_lagged']"
      ]
    },
    {
      "cell_type": "code",
      "execution_count": null,
      "metadata": {
        "id": "v_EWvEh1exsq",
        "outputId": "21838e54-0e9f-4e47-c868-c75c57198471"
      },
      "outputs": [
        {
          "name": "stderr",
          "output_type": "stream",
          "text": [
            "/Users/sanilahuja/anaconda3/lib/python3.6/site-packages/ipykernel_launcher.py:3: SettingWithCopyWarning: \n",
            "A value is trying to be set on a copy of a slice from a DataFrame.\n",
            "Try using .loc[row_indexer,col_indexer] = value instead\n",
            "\n",
            "See the caveats in the documentation: http://pandas.pydata.org/pandas-docs/stable/indexing.html#indexing-view-versus-copy\n",
            "  This is separate from the ipykernel package so we can avoid doing imports until\n",
            "/Users/sanilahuja/anaconda3/lib/python3.6/site-packages/ipykernel_launcher.py:4: SettingWithCopyWarning: \n",
            "A value is trying to be set on a copy of a slice from a DataFrame.\n",
            "Try using .loc[row_indexer,col_indexer] = value instead\n",
            "\n",
            "See the caveats in the documentation: http://pandas.pydata.org/pandas-docs/stable/indexing.html#indexing-view-versus-copy\n",
            "  after removing the cwd from sys.path.\n",
            "/Users/sanilahuja/anaconda3/lib/python3.6/site-packages/ipykernel_launcher.py:6: SettingWithCopyWarning: \n",
            "A value is trying to be set on a copy of a slice from a DataFrame.\n",
            "Try using .loc[row_indexer,col_indexer] = value instead\n",
            "\n",
            "See the caveats in the documentation: http://pandas.pydata.org/pandas-docs/stable/indexing.html#indexing-view-versus-copy\n",
            "  \n"
          ]
        }
      ],
      "source": [
        "df_2 = df.loc[df.customer_trip_order == 2,:]\n",
        "\n",
        "df_2['diff_days'] = df_2.apply(lambda x : x['diff'].days , axis = 1)\n",
        "df_2['diff_minutes'] = df_2.apply(lambda x : x['diff'].seconds//60 , axis = 1)\n",
        "\n",
        "df_2['total_hours'] =  (df_2['diff_days'] * 24 ) +  (df_2['diff_minutes'] / 60)"
      ]
    },
    {
      "cell_type": "code",
      "execution_count": null,
      "metadata": {
        "collapsed": true,
        "id": "CIZRpHGZexsr"
      },
      "outputs": [],
      "source": [
        "ans = df_2['total_hours'].mean()"
      ]
    },
    {
      "cell_type": "code",
      "execution_count": null,
      "metadata": {
        "id": "-PCgJAMDexsr",
        "outputId": "7d0b6dcb-8194-4b3b-91fe-add42227d98c"
      },
      "outputs": [
        {
          "name": "stdout",
          "output_type": "stream",
          "text": [
            "average duration between the 1st trip and the 2nd trip of customers in hours : 24.777709017889695\n"
          ]
        }
      ],
      "source": [
        "print('average duration between the 1st trip and the 2nd trip of customers in hours : ' + str(ans))"
      ]
    },
    {
      "cell_type": "markdown",
      "metadata": {
        "id": "EtsZOXNTexsr"
      },
      "source": [
        "# PART 3 : Model"
      ]
    },
    {
      "cell_type": "code",
      "execution_count": null,
      "metadata": {
        "id": "540PEWajexsr",
        "outputId": "fafb86c2-b7f0-42b0-c9d4-e7fdff6157a3"
      },
      "outputs": [
        {
          "data": {
            "text/html": [
              "<div>\n",
              "<style>\n",
              "    .dataframe thead tr:only-child th {\n",
              "        text-align: right;\n",
              "    }\n",
              "\n",
              "    .dataframe thead th {\n",
              "        text-align: left;\n",
              "    }\n",
              "\n",
              "    .dataframe tbody tr th {\n",
              "        vertical-align: top;\n",
              "    }\n",
              "</style>\n",
              "<table border=\"1\" class=\"dataframe\">\n",
              "  <thead>\n",
              "    <tr style=\"text-align: right;\">\n",
              "      <th></th>\n",
              "      <th>trip_id</th>\n",
              "      <th>customer_id</th>\n",
              "      <th>timestamp</th>\n",
              "      <th>pick_lat</th>\n",
              "      <th>pick_lng</th>\n",
              "      <th>drop_lat</th>\n",
              "      <th>drop_lng</th>\n",
              "      <th>travel_distance</th>\n",
              "      <th>travel_time</th>\n",
              "      <th>trip_fare</th>\n",
              "    </tr>\n",
              "  </thead>\n",
              "  <tbody>\n",
              "    <tr>\n",
              "      <th>0</th>\n",
              "      <td>ID001</td>\n",
              "      <td>CUST_001</td>\n",
              "      <td>1546709270211</td>\n",
              "      <td>17.442705</td>\n",
              "      <td>78.387878</td>\n",
              "      <td>17.457829</td>\n",
              "      <td>78.399056</td>\n",
              "      <td>2.806</td>\n",
              "      <td>12.609667</td>\n",
              "      <td>37</td>\n",
              "    </tr>\n",
              "    <tr>\n",
              "      <th>1</th>\n",
              "      <td>ID002</td>\n",
              "      <td>CUST_002</td>\n",
              "      <td>1546709309524</td>\n",
              "      <td>17.490189</td>\n",
              "      <td>78.415512</td>\n",
              "      <td>17.450548</td>\n",
              "      <td>78.367294</td>\n",
              "      <td>11.991</td>\n",
              "      <td>24.075200</td>\n",
              "      <td>119</td>\n",
              "    </tr>\n",
              "    <tr>\n",
              "      <th>2</th>\n",
              "      <td>ID003</td>\n",
              "      <td>CUST_003</td>\n",
              "      <td>1546709331857</td>\n",
              "      <td>17.370108</td>\n",
              "      <td>78.515045</td>\n",
              "      <td>17.377041</td>\n",
              "      <td>78.517921</td>\n",
              "      <td>1.322</td>\n",
              "      <td>8.708300</td>\n",
              "      <td>27</td>\n",
              "    </tr>\n",
              "    <tr>\n",
              "      <th>3</th>\n",
              "      <td>ID004</td>\n",
              "      <td>CUST_004</td>\n",
              "      <td>1546709358403</td>\n",
              "      <td>17.439314</td>\n",
              "      <td>78.443001</td>\n",
              "      <td>17.397131</td>\n",
              "      <td>78.516586</td>\n",
              "      <td>11.822</td>\n",
              "      <td>24.037550</td>\n",
              "      <td>121</td>\n",
              "    </tr>\n",
              "    <tr>\n",
              "      <th>4</th>\n",
              "      <td>ID005</td>\n",
              "      <td>CUST_005</td>\n",
              "      <td>1546709386884</td>\n",
              "      <td>17.432325</td>\n",
              "      <td>78.381966</td>\n",
              "      <td>17.401625</td>\n",
              "      <td>78.400032</td>\n",
              "      <td>6.978</td>\n",
              "      <td>16.120867</td>\n",
              "      <td>58</td>\n",
              "    </tr>\n",
              "  </tbody>\n",
              "</table>\n",
              "</div>"
            ],
            "text/plain": [
              "  trip_id customer_id      timestamp   pick_lat   pick_lng   drop_lat  \\\n",
              "0   ID001    CUST_001  1546709270211  17.442705  78.387878  17.457829   \n",
              "1   ID002    CUST_002  1546709309524  17.490189  78.415512  17.450548   \n",
              "2   ID003    CUST_003  1546709331857  17.370108  78.515045  17.377041   \n",
              "3   ID004    CUST_004  1546709358403  17.439314  78.443001  17.397131   \n",
              "4   ID005    CUST_005  1546709386884  17.432325  78.381966  17.401625   \n",
              "\n",
              "    drop_lng  travel_distance  travel_time  trip_fare  \n",
              "0  78.399056            2.806    12.609667         37  \n",
              "1  78.367294           11.991    24.075200        119  \n",
              "2  78.517921            1.322     8.708300         27  \n",
              "3  78.516586           11.822    24.037550        121  \n",
              "4  78.400032            6.978    16.120867         58  "
            ]
          },
          "execution_count": 6,
          "metadata": {},
          "output_type": "execute_result"
        }
      ],
      "source": [
        "df.head()"
      ]
    },
    {
      "cell_type": "code",
      "execution_count": null,
      "metadata": {
        "collapsed": true,
        "id": "Ls7qtrBZexsr"
      },
      "outputs": [],
      "source": [
        "cols = ['travel_distance','travel_time','distance_time_mult','trip_fare']"
      ]
    },
    {
      "cell_type": "code",
      "execution_count": null,
      "metadata": {
        "collapsed": true,
        "id": "vumnKFs_exss"
      },
      "outputs": [],
      "source": [
        "df_model = df.loc[:,cols]"
      ]
    },
    {
      "cell_type": "code",
      "execution_count": null,
      "metadata": {
        "id": "8txt7vrxexss",
        "outputId": "65f4d0c3-a802-49c7-a665-5e5737bcf11c"
      },
      "outputs": [
        {
          "data": {
            "text/html": [
              "<div>\n",
              "<style>\n",
              "    .dataframe thead tr:only-child th {\n",
              "        text-align: right;\n",
              "    }\n",
              "\n",
              "    .dataframe thead th {\n",
              "        text-align: left;\n",
              "    }\n",
              "\n",
              "    .dataframe tbody tr th {\n",
              "        vertical-align: top;\n",
              "    }\n",
              "</style>\n",
              "<table border=\"1\" class=\"dataframe\">\n",
              "  <thead>\n",
              "    <tr style=\"text-align: right;\">\n",
              "      <th></th>\n",
              "      <th>travel_distance</th>\n",
              "      <th>travel_time</th>\n",
              "      <th>distance_time_mult</th>\n",
              "      <th>trip_fare</th>\n",
              "    </tr>\n",
              "  </thead>\n",
              "  <tbody>\n",
              "    <tr>\n",
              "      <th>0</th>\n",
              "      <td>2.806</td>\n",
              "      <td>12.609667</td>\n",
              "      <td>NaN</td>\n",
              "      <td>37</td>\n",
              "    </tr>\n",
              "    <tr>\n",
              "      <th>1</th>\n",
              "      <td>11.991</td>\n",
              "      <td>24.075200</td>\n",
              "      <td>NaN</td>\n",
              "      <td>119</td>\n",
              "    </tr>\n",
              "    <tr>\n",
              "      <th>2</th>\n",
              "      <td>1.322</td>\n",
              "      <td>8.708300</td>\n",
              "      <td>NaN</td>\n",
              "      <td>27</td>\n",
              "    </tr>\n",
              "    <tr>\n",
              "      <th>3</th>\n",
              "      <td>11.822</td>\n",
              "      <td>24.037550</td>\n",
              "      <td>NaN</td>\n",
              "      <td>121</td>\n",
              "    </tr>\n",
              "    <tr>\n",
              "      <th>4</th>\n",
              "      <td>6.978</td>\n",
              "      <td>16.120867</td>\n",
              "      <td>NaN</td>\n",
              "      <td>58</td>\n",
              "    </tr>\n",
              "  </tbody>\n",
              "</table>\n",
              "</div>"
            ],
            "text/plain": [
              "   travel_distance  travel_time  distance_time_mult  trip_fare\n",
              "0            2.806    12.609667                 NaN         37\n",
              "1           11.991    24.075200                 NaN        119\n",
              "2            1.322     8.708300                 NaN         27\n",
              "3           11.822    24.037550                 NaN        121\n",
              "4            6.978    16.120867                 NaN         58"
            ]
          },
          "execution_count": 9,
          "metadata": {},
          "output_type": "execute_result"
        }
      ],
      "source": [
        "df_model.head()"
      ]
    },
    {
      "cell_type": "code",
      "execution_count": null,
      "metadata": {
        "id": "VMrA0-c_exss",
        "outputId": "39ff0999-d8a0-47bd-810e-5e096776f66d"
      },
      "outputs": [
        {
          "data": {
            "text/plain": [
              "(44587, 4)"
            ]
          },
          "execution_count": 10,
          "metadata": {},
          "output_type": "execute_result"
        }
      ],
      "source": [
        "df_model.shape"
      ]
    },
    {
      "cell_type": "markdown",
      "metadata": {
        "id": "6YjJMSOkexss"
      },
      "source": [
        "## step 1 : run OLS regression without influence point removal"
      ]
    },
    {
      "cell_type": "code",
      "execution_count": null,
      "metadata": {
        "collapsed": true,
        "id": "DhMPjDG0exss"
      },
      "outputs": [],
      "source": [
        "import statsmodels.api as sm\n",
        "import statsmodels.formula.api as smf"
      ]
    },
    {
      "cell_type": "code",
      "execution_count": null,
      "metadata": {
        "collapsed": true,
        "id": "7Pcl2iH-exst"
      },
      "outputs": [],
      "source": [
        "df_model = df_model.loc[df.travel_distance > 0,:]"
      ]
    },
    {
      "cell_type": "code",
      "execution_count": null,
      "metadata": {
        "id": "3a_Y1TXBexst",
        "outputId": "a33c65e2-a06f-443b-83e7-04f1a304d708"
      },
      "outputs": [
        {
          "data": {
            "text/plain": [
              "(44353, 4)"
            ]
          },
          "execution_count": 13,
          "metadata": {},
          "output_type": "execute_result"
        }
      ],
      "source": [
        "df_model.shape"
      ]
    },
    {
      "cell_type": "code",
      "execution_count": null,
      "metadata": {
        "id": "t8S8fGBqexst",
        "outputId": "dbef8c34-7a89-40fd-c2a2-c33e2b8fd1c3"
      },
      "outputs": [
        {
          "name": "stdout",
          "output_type": "stream",
          "text": [
            "R-Squared: 0.8381775296745502\n",
            "Intercept          8.420385\n",
            "travel_distance    8.897664\n",
            "dtype: float64\n"
          ]
        }
      ],
      "source": [
        "f = 'trip_fare ~ travel_distance'\n",
        "model = smf.ols(formula=f, data=df_model).fit()\n",
        "print ('R-Squared:', model.rsquared)\n",
        "print (model.params)"
      ]
    },
    {
      "cell_type": "code",
      "execution_count": null,
      "metadata": {
        "id": "uwmwL5a7exst",
        "outputId": "76d61fcf-d3a8-464f-f74a-d2f5ad17fa42"
      },
      "outputs": [
        {
          "data": {
            "text/html": [
              "<table class=\"simpletable\">\n",
              "<caption>OLS Regression Results</caption>\n",
              "<tr>\n",
              "  <th>Dep. Variable:</th>        <td>trip_fare</td>    <th>  R-squared:         </th>  <td>   0.838</td>  \n",
              "</tr>\n",
              "<tr>\n",
              "  <th>Model:</th>                   <td>OLS</td>       <th>  Adj. R-squared:    </th>  <td>   0.838</td>  \n",
              "</tr>\n",
              "<tr>\n",
              "  <th>Method:</th>             <td>Least Squares</td>  <th>  F-statistic:       </th>  <td>2.297e+05</td> \n",
              "</tr>\n",
              "<tr>\n",
              "  <th>Date:</th>             <td>Sun, 07 Jun 2020</td> <th>  Prob (F-statistic):</th>   <td>  0.00</td>   \n",
              "</tr>\n",
              "<tr>\n",
              "  <th>Time:</th>                 <td>13:56:11</td>     <th>  Log-Likelihood:    </th> <td>-1.7707e+05</td>\n",
              "</tr>\n",
              "<tr>\n",
              "  <th>No. Observations:</th>      <td> 44353</td>      <th>  AIC:               </th>  <td>3.541e+05</td> \n",
              "</tr>\n",
              "<tr>\n",
              "  <th>Df Residuals:</th>          <td> 44351</td>      <th>  BIC:               </th>  <td>3.542e+05</td> \n",
              "</tr>\n",
              "<tr>\n",
              "  <th>Df Model:</th>              <td>     1</td>      <th>                     </th>      <td> </td>     \n",
              "</tr>\n",
              "<tr>\n",
              "  <th>Covariance Type:</th>      <td>nonrobust</td>    <th>                     </th>      <td> </td>     \n",
              "</tr>\n",
              "</table>\n",
              "<table class=\"simpletable\">\n",
              "<tr>\n",
              "         <td></td>            <th>coef</th>     <th>std err</th>      <th>t</th>      <th>P>|t|</th>  <th>[0.025</th>    <th>0.975]</th>  \n",
              "</tr>\n",
              "<tr>\n",
              "  <th>Intercept</th>       <td>    8.4204</td> <td>    0.114</td> <td>   74.097</td> <td> 0.000</td> <td>    8.198</td> <td>    8.643</td>\n",
              "</tr>\n",
              "<tr>\n",
              "  <th>travel_distance</th> <td>    8.8977</td> <td>    0.019</td> <td>  479.292</td> <td> 0.000</td> <td>    8.861</td> <td>    8.934</td>\n",
              "</tr>\n",
              "</table>\n",
              "<table class=\"simpletable\">\n",
              "<tr>\n",
              "  <th>Omnibus:</th>       <td>151933.529</td> <th>  Durbin-Watson:     </th>    <td>   2.008</td>    \n",
              "</tr>\n",
              "<tr>\n",
              "  <th>Prob(Omnibus):</th>   <td> 0.000</td>   <th>  Jarque-Bera (JB):  </th> <td>76471013721.004</td>\n",
              "</tr>\n",
              "<tr>\n",
              "  <th>Skew:</th>            <td>63.618</td>   <th>  Prob(JB):          </th>    <td>    0.00</td>    \n",
              "</tr>\n",
              "<tr>\n",
              "  <th>Kurtosis:</th>       <td>6434.430</td>  <th>  Cond. No.          </th>    <td>    11.4</td>    \n",
              "</tr>\n",
              "</table>"
            ],
            "text/plain": [
              "<class 'statsmodels.iolib.summary.Summary'>\n",
              "\"\"\"\n",
              "                            OLS Regression Results                            \n",
              "==============================================================================\n",
              "Dep. Variable:              trip_fare   R-squared:                       0.838\n",
              "Model:                            OLS   Adj. R-squared:                  0.838\n",
              "Method:                 Least Squares   F-statistic:                 2.297e+05\n",
              "Date:                Sun, 07 Jun 2020   Prob (F-statistic):               0.00\n",
              "Time:                        13:56:11   Log-Likelihood:            -1.7707e+05\n",
              "No. Observations:               44353   AIC:                         3.541e+05\n",
              "Df Residuals:                   44351   BIC:                         3.542e+05\n",
              "Df Model:                           1                                         \n",
              "Covariance Type:            nonrobust                                         \n",
              "===================================================================================\n",
              "                      coef    std err          t      P>|t|      [0.025      0.975]\n",
              "-----------------------------------------------------------------------------------\n",
              "Intercept           8.4204      0.114     74.097      0.000       8.198       8.643\n",
              "travel_distance     8.8977      0.019    479.292      0.000       8.861       8.934\n",
              "==============================================================================\n",
              "Omnibus:                   151933.529   Durbin-Watson:                   2.008\n",
              "Prob(Omnibus):                  0.000   Jarque-Bera (JB):      76471013721.004\n",
              "Skew:                          63.618   Prob(JB):                         0.00\n",
              "Kurtosis:                    6434.430   Cond. No.                         11.4\n",
              "==============================================================================\n",
              "\n",
              "Warnings:\n",
              "[1] Standard Errors assume that the covariance matrix of the errors is correctly specified.\n",
              "\"\"\""
            ]
          },
          "execution_count": 15,
          "metadata": {},
          "output_type": "execute_result"
        }
      ],
      "source": [
        "model.summary()"
      ]
    },
    {
      "cell_type": "code",
      "execution_count": null,
      "metadata": {
        "id": "9hzEQoWNexst",
        "outputId": "32580ddc-b301-48f9-91a3-fcaf91f14d33"
      },
      "outputs": [
        {
          "name": "stdout",
          "output_type": "stream",
          "text": [
            "R-Squared: 0.8384294642587\n",
            "Intercept          8.357843\n",
            "travel_distance    8.836019\n",
            "travel_time        0.023808\n",
            "dtype: float64\n"
          ]
        }
      ],
      "source": [
        "f = 'trip_fare ~ travel_distance + travel_time'\n",
        "model = smf.ols(formula=f, data=df_model).fit()\n",
        "print ('R-Squared:', model.rsquared)\n",
        "print (model.params)\n",
        "\n",
        "# preds = model.predict(df[['travel_distance','travel_time']])\n",
        "\n",
        "# df_model.plot(kind='scatter', x='travel_distance', y='trip_fare');\n",
        "# plt.plot(df['travel_distance'], preds, c='blue', linewidth=2);\n",
        "# plt.show()"
      ]
    },
    {
      "cell_type": "code",
      "execution_count": null,
      "metadata": {
        "id": "s0hasBViexsu",
        "outputId": "6ed90776-5f95-44f4-88fd-6c4dac7fa929"
      },
      "outputs": [
        {
          "data": {
            "text/html": [
              "<table class=\"simpletable\">\n",
              "<caption>OLS Regression Results</caption>\n",
              "<tr>\n",
              "  <th>Dep. Variable:</th>        <td>trip_fare</td>    <th>  R-squared:         </th>  <td>   0.838</td>  \n",
              "</tr>\n",
              "<tr>\n",
              "  <th>Model:</th>                   <td>OLS</td>       <th>  Adj. R-squared:    </th>  <td>   0.838</td>  \n",
              "</tr>\n",
              "<tr>\n",
              "  <th>Method:</th>             <td>Least Squares</td>  <th>  F-statistic:       </th>  <td>1.151e+05</td> \n",
              "</tr>\n",
              "<tr>\n",
              "  <th>Date:</th>             <td>Sun, 07 Jun 2020</td> <th>  Prob (F-statistic):</th>   <td>  0.00</td>   \n",
              "</tr>\n",
              "<tr>\n",
              "  <th>Time:</th>                 <td>13:56:13</td>     <th>  Log-Likelihood:    </th> <td>-1.7704e+05</td>\n",
              "</tr>\n",
              "<tr>\n",
              "  <th>No. Observations:</th>      <td> 44353</td>      <th>  AIC:               </th>  <td>3.541e+05</td> \n",
              "</tr>\n",
              "<tr>\n",
              "  <th>Df Residuals:</th>          <td> 44350</td>      <th>  BIC:               </th>  <td>3.541e+05</td> \n",
              "</tr>\n",
              "<tr>\n",
              "  <th>Df Model:</th>              <td>     2</td>      <th>                     </th>      <td> </td>     \n",
              "</tr>\n",
              "<tr>\n",
              "  <th>Covariance Type:</th>      <td>nonrobust</td>    <th>                     </th>      <td> </td>     \n",
              "</tr>\n",
              "</table>\n",
              "<table class=\"simpletable\">\n",
              "<tr>\n",
              "         <td></td>            <th>coef</th>     <th>std err</th>      <th>t</th>      <th>P>|t|</th>  <th>[0.025</th>    <th>0.975]</th>  \n",
              "</tr>\n",
              "<tr>\n",
              "  <th>Intercept</th>       <td>    8.3578</td> <td>    0.114</td> <td>   73.442</td> <td> 0.000</td> <td>    8.135</td> <td>    8.581</td>\n",
              "</tr>\n",
              "<tr>\n",
              "  <th>travel_distance</th> <td>    8.8360</td> <td>    0.020</td> <td>  442.326</td> <td> 0.000</td> <td>    8.797</td> <td>    8.875</td>\n",
              "</tr>\n",
              "<tr>\n",
              "  <th>travel_time</th>     <td>    0.0238</td> <td>    0.003</td> <td>    8.316</td> <td> 0.000</td> <td>    0.018</td> <td>    0.029</td>\n",
              "</tr>\n",
              "</table>\n",
              "<table class=\"simpletable\">\n",
              "<tr>\n",
              "  <th>Omnibus:</th>       <td>151698.440</td> <th>  Durbin-Watson:     </th>    <td>   2.008</td>    \n",
              "</tr>\n",
              "<tr>\n",
              "  <th>Prob(Omnibus):</th>   <td> 0.000</td>   <th>  Jarque-Bera (JB):  </th> <td>75329967366.507</td>\n",
              "</tr>\n",
              "<tr>\n",
              "  <th>Skew:</th>            <td>63.329</td>   <th>  Prob(JB):          </th>    <td>    0.00</td>    \n",
              "</tr>\n",
              "<tr>\n",
              "  <th>Kurtosis:</th>       <td>6386.260</td>  <th>  Cond. No.          </th>    <td>    52.7</td>    \n",
              "</tr>\n",
              "</table>"
            ],
            "text/plain": [
              "<class 'statsmodels.iolib.summary.Summary'>\n",
              "\"\"\"\n",
              "                            OLS Regression Results                            \n",
              "==============================================================================\n",
              "Dep. Variable:              trip_fare   R-squared:                       0.838\n",
              "Model:                            OLS   Adj. R-squared:                  0.838\n",
              "Method:                 Least Squares   F-statistic:                 1.151e+05\n",
              "Date:                Sun, 07 Jun 2020   Prob (F-statistic):               0.00\n",
              "Time:                        13:56:13   Log-Likelihood:            -1.7704e+05\n",
              "No. Observations:               44353   AIC:                         3.541e+05\n",
              "Df Residuals:                   44350   BIC:                         3.541e+05\n",
              "Df Model:                           2                                         \n",
              "Covariance Type:            nonrobust                                         \n",
              "===================================================================================\n",
              "                      coef    std err          t      P>|t|      [0.025      0.975]\n",
              "-----------------------------------------------------------------------------------\n",
              "Intercept           8.3578      0.114     73.442      0.000       8.135       8.581\n",
              "travel_distance     8.8360      0.020    442.326      0.000       8.797       8.875\n",
              "travel_time         0.0238      0.003      8.316      0.000       0.018       0.029\n",
              "==============================================================================\n",
              "Omnibus:                   151698.440   Durbin-Watson:                   2.008\n",
              "Prob(Omnibus):                  0.000   Jarque-Bera (JB):      75329967366.507\n",
              "Skew:                          63.329   Prob(JB):                         0.00\n",
              "Kurtosis:                    6386.260   Cond. No.                         52.7\n",
              "==============================================================================\n",
              "\n",
              "Warnings:\n",
              "[1] Standard Errors assume that the covariance matrix of the errors is correctly specified.\n",
              "\"\"\""
            ]
          },
          "execution_count": 17,
          "metadata": {},
          "output_type": "execute_result"
        }
      ],
      "source": [
        "model.summary()"
      ]
    },
    {
      "cell_type": "markdown",
      "metadata": {
        "id": "8FYtzgK-exsu"
      },
      "source": [
        "### Step 2 : remove influence points"
      ]
    },
    {
      "cell_type": "code",
      "execution_count": null,
      "metadata": {
        "collapsed": true,
        "id": "KCZFbOs7exsu"
      },
      "outputs": [],
      "source": [
        "infl = model.get_influence()\n",
        "sm_fr = infl.summary_frame()"
      ]
    },
    {
      "cell_type": "code",
      "execution_count": null,
      "metadata": {
        "id": "eZCngE32exsu",
        "outputId": "7a6f7632-58f3-497f-9b94-4acb0ba1fab5"
      },
      "outputs": [
        {
          "data": {
            "text/plain": [
              "(44353, 9)"
            ]
          },
          "execution_count": 19,
          "metadata": {},
          "output_type": "execute_result"
        }
      ],
      "source": [
        "sm_fr.shape"
      ]
    },
    {
      "cell_type": "code",
      "execution_count": null,
      "metadata": {
        "id": "NI7OhtXrexsv",
        "outputId": "f4a5a03e-1546-468d-d027-3740836b19a1"
      },
      "outputs": [
        {
          "data": {
            "text/plain": [
              "(44353, 4)"
            ]
          },
          "execution_count": 20,
          "metadata": {},
          "output_type": "execute_result"
        }
      ],
      "source": [
        "df_model.shape"
      ]
    },
    {
      "cell_type": "code",
      "execution_count": null,
      "metadata": {
        "collapsed": true,
        "id": "giI8zkZQexsv"
      },
      "outputs": [],
      "source": [
        "df_model_or = df_model.loc[sm_fr.cooks_d < sm_fr.cooks_d.mean(),:]"
      ]
    },
    {
      "cell_type": "code",
      "execution_count": null,
      "metadata": {
        "id": "bhdNPj4Hexsv",
        "outputId": "ce423935-eafb-4021-ce60-495c2763eba6"
      },
      "outputs": [
        {
          "data": {
            "text/plain": [
              "(44336, 4)"
            ]
          },
          "execution_count": 22,
          "metadata": {},
          "output_type": "execute_result"
        }
      ],
      "source": [
        "df_model_or.shape"
      ]
    },
    {
      "cell_type": "code",
      "execution_count": null,
      "metadata": {
        "id": "r4N47XiYexsv",
        "outputId": "c49e87fd-ef87-4d6f-bc3e-9139e032fab1"
      },
      "outputs": [
        {
          "name": "stdout",
          "output_type": "stream",
          "text": [
            "R-Squared: 0.9411512272439387\n",
            "Intercept          8.362040\n",
            "travel_distance    8.708523\n",
            "travel_time        0.057813\n",
            "dtype: float64\n"
          ]
        }
      ],
      "source": [
        "f = 'trip_fare ~ travel_distance + travel_time'\n",
        "model = smf.ols(formula=f, data=df_model_or).fit()\n",
        "print ('R-Squared:', model.rsquared)\n",
        "print (model.params)\n",
        "\n",
        "# preds = model.predict(df[['travel_distance','travel_time']])\n",
        "\n",
        "# df_model.plot(kind='scatter', x='travel_distance', y='trip_fare');\n",
        "# plt.plot(df['travel_distance'], preds, c='blue', linewidth=2);\n",
        "# plt.show()"
      ]
    },
    {
      "cell_type": "code",
      "execution_count": null,
      "metadata": {
        "collapsed": true,
        "id": "W8C66hHVexsw"
      },
      "outputs": [],
      "source": [
        "import sklearn.metrics"
      ]
    },
    {
      "cell_type": "code",
      "execution_count": null,
      "metadata": {
        "collapsed": true,
        "id": "JeZERfx5exsw"
      },
      "outputs": [],
      "source": [
        "X = df_model[['travel_distance','travel_time']]\n",
        "Y = model.predict(df_model[['travel_distance','travel_time']])"
      ]
    },
    {
      "cell_type": "code",
      "execution_count": null,
      "metadata": {
        "id": "1pJM3-CFexsw",
        "outputId": "626982d4-2654-4ce7-df80-a6dfdaaf2e09"
      },
      "outputs": [
        {
          "data": {
            "text/plain": [
              "0.8378879651474944"
            ]
          },
          "execution_count": 31,
          "metadata": {},
          "output_type": "execute_result"
        }
      ],
      "source": [
        "sklearn.metrics.r2_score(y_true = df_model['trip_fare'], y_pred = Y)"
      ]
    },
    {
      "cell_type": "markdown",
      "metadata": {
        "id": "LtJryVh7exs0"
      },
      "source": [
        "### Predict fare price\n",
        "use the model to predict trip_fare for a trip with travel_distance of 3.5 kms and travel_time\n",
        "of 15 minutes."
      ]
    },
    {
      "cell_type": "code",
      "execution_count": null,
      "metadata": {
        "collapsed": true,
        "id": "YqEAoeclexs0"
      },
      "outputs": [],
      "source": [
        "ans = 8.362040 + 3.5 * 8.708523 + 15 * 0.057813"
      ]
    },
    {
      "cell_type": "code",
      "execution_count": null,
      "metadata": {
        "id": "RODE5ngrexs0",
        "outputId": "dd7bb5ad-f718-4b89-e165-451ee3743273"
      },
      "outputs": [
        {
          "name": "stdout",
          "output_type": "stream",
          "text": [
            "trip fare : 39.7090655\n"
          ]
        }
      ],
      "source": [
        "print('trip fare : ' + str(ans))"
      ]
    },
    {
      "cell_type": "markdown",
      "metadata": {
        "id": "pTOZD4Dnexs0"
      },
      "source": [
        "# PART 4 : HEX"
      ]
    },
    {
      "cell_type": "code",
      "execution_count": null,
      "metadata": {
        "id": "ioYfTOiHexs1",
        "outputId": "1ad38e74-a8cc-4a1a-d32d-11f96f505d99"
      },
      "outputs": [
        {
          "name": "stdout",
          "output_type": "stream",
          "text": [
            "Collecting h3\n",
            "  Downloading h3-3.6.3-cp36-cp36m-macosx_10_9_x86_64.whl (562 kB)\n",
            "\u001b[K     |████████████████████████████████| 562 kB 886 kB/s eta 0:00:01\n",
            "\u001b[?25hInstalling collected packages: h3\n",
            "Successfully installed h3-3.6.3\n"
          ]
        }
      ],
      "source": [
        "!pip install h3"
      ]
    },
    {
      "cell_type": "code",
      "execution_count": null,
      "metadata": {
        "collapsed": true,
        "id": "FXT0UTUDexs1"
      },
      "outputs": [],
      "source": [
        "import h3"
      ]
    },
    {
      "cell_type": "code",
      "execution_count": null,
      "metadata": {
        "collapsed": true,
        "id": "SdGumb-Xexs1"
      },
      "outputs": [],
      "source": [
        "df['pick_hexid'] = df.apply(lambda x : h3.geo_to_h3(lat = x['pick_lat'], lng = x['pick_lng'],resolution= 8),axis = 1)\n",
        "df['drop_hexid'] = df.apply(lambda x : h3.geo_to_h3(lat = x['drop_lat'], lng = x['drop_lng'],resolution= 8),axis = 1)\n",
        "\n",
        "df['hex_pair'] = df['pick_hexid'] + ' to ' + df['drop_hexid']"
      ]
    },
    {
      "cell_type": "code",
      "execution_count": null,
      "metadata": {
        "collapsed": true,
        "id": "ZJPQBIufexs1"
      },
      "outputs": [],
      "source": [
        "df_tophex = df.groupby('hex_pair').count()['trip_id'].sort_values(ascending = False).reset_index()"
      ]
    },
    {
      "cell_type": "code",
      "execution_count": null,
      "metadata": {
        "collapsed": true,
        "id": "uNOj0swnexs1"
      },
      "outputs": [],
      "source": [
        "df_tophex.index += 1"
      ]
    },
    {
      "cell_type": "code",
      "execution_count": null,
      "metadata": {
        "collapsed": true,
        "id": "KX021YNSexs2"
      },
      "outputs": [],
      "source": [
        "df_tophex.reset_index(inplace = True)"
      ]
    },
    {
      "cell_type": "code",
      "execution_count": null,
      "metadata": {
        "collapsed": true,
        "id": "x2_7d4aNexs2"
      },
      "outputs": [],
      "source": [
        "df_tophex.columns = ['Rank','Hex pair (source_hexid, destination_hexid)','Total_Trips']"
      ]
    },
    {
      "cell_type": "code",
      "execution_count": null,
      "metadata": {
        "id": "BfQB13LZexs2",
        "outputId": "9b848216-97b2-49ff-b0cf-1dd5a2104af2"
      },
      "outputs": [
        {
          "data": {
            "text/html": [
              "<div>\n",
              "<style>\n",
              "    .dataframe thead tr:only-child th {\n",
              "        text-align: right;\n",
              "    }\n",
              "\n",
              "    .dataframe thead th {\n",
              "        text-align: left;\n",
              "    }\n",
              "\n",
              "    .dataframe tbody tr th {\n",
              "        vertical-align: top;\n",
              "    }\n",
              "</style>\n",
              "<table border=\"1\" class=\"dataframe\">\n",
              "  <thead>\n",
              "    <tr style=\"text-align: right;\">\n",
              "      <th></th>\n",
              "      <th>Rank</th>\n",
              "      <th>Hex pair (source_hexid, destination_hexid)</th>\n",
              "      <th>Total_Trips</th>\n",
              "    </tr>\n",
              "  </thead>\n",
              "  <tbody>\n",
              "    <tr>\n",
              "      <th>0</th>\n",
              "      <td>1</td>\n",
              "      <td>8860a259b9fffff to 8860a25995fffff</td>\n",
              "      <td>194</td>\n",
              "    </tr>\n",
              "    <tr>\n",
              "      <th>1</th>\n",
              "      <td>2</td>\n",
              "      <td>8860a25995fffff to 8860a259b9fffff</td>\n",
              "      <td>90</td>\n",
              "    </tr>\n",
              "    <tr>\n",
              "      <th>2</th>\n",
              "      <td>3</td>\n",
              "      <td>8860a259b9fffff to 8860a259bbfffff</td>\n",
              "      <td>82</td>\n",
              "    </tr>\n",
              "    <tr>\n",
              "      <th>3</th>\n",
              "      <td>4</td>\n",
              "      <td>8860a259b9fffff to 8860a24a6dfffff</td>\n",
              "      <td>80</td>\n",
              "    </tr>\n",
              "    <tr>\n",
              "      <th>4</th>\n",
              "      <td>5</td>\n",
              "      <td>8860a24a6dfffff to 8860a24b51fffff</td>\n",
              "      <td>79</td>\n",
              "    </tr>\n",
              "    <tr>\n",
              "      <th>5</th>\n",
              "      <td>6</td>\n",
              "      <td>8860a24a65fffff to 8860a25995fffff</td>\n",
              "      <td>77</td>\n",
              "    </tr>\n",
              "    <tr>\n",
              "      <th>6</th>\n",
              "      <td>7</td>\n",
              "      <td>8860a259b9fffff to 8860a259b3fffff</td>\n",
              "      <td>74</td>\n",
              "    </tr>\n",
              "    <tr>\n",
              "      <th>7</th>\n",
              "      <td>8</td>\n",
              "      <td>8860a24a61fffff to 8860a24a6dfffff</td>\n",
              "      <td>70</td>\n",
              "    </tr>\n",
              "  </tbody>\n",
              "</table>\n",
              "</div>"
            ],
            "text/plain": [
              "   Rank Hex pair (source_hexid, destination_hexid)  Total_Trips\n",
              "0     1         8860a259b9fffff to 8860a25995fffff          194\n",
              "1     2         8860a25995fffff to 8860a259b9fffff           90\n",
              "2     3         8860a259b9fffff to 8860a259bbfffff           82\n",
              "3     4         8860a259b9fffff to 8860a24a6dfffff           80\n",
              "4     5         8860a24a6dfffff to 8860a24b51fffff           79\n",
              "5     6         8860a24a65fffff to 8860a25995fffff           77\n",
              "6     7         8860a259b9fffff to 8860a259b3fffff           74\n",
              "7     8         8860a24a61fffff to 8860a24a6dfffff           70"
            ]
          },
          "execution_count": 128,
          "metadata": {},
          "output_type": "execute_result"
        }
      ],
      "source": [
        "df_tophex.head(8)"
      ]
    },
    {
      "cell_type": "code",
      "execution_count": null,
      "metadata": {
        "collapsed": true,
        "id": "guBDpEcLexs2"
      },
      "outputs": [],
      "source": [
        ""
      ]
    }
  ],
  "metadata": {
    "kernelspec": {
      "display_name": "Python 3",
      "language": "python",
      "name": "python3"
    },
    "language_info": {
      "codemirror_mode": {
        "name": "ipython",
        "version": 3
      },
      "file_extension": ".py",
      "mimetype": "text/x-python",
      "name": "python",
      "nbconvert_exporter": "python",
      "pygments_lexer": "ipython3",
      "version": "3.6.8"
    },
    "colab": {
      "name": "Code.ipynb",
      "provenance": []
    }
  },
  "nbformat": 4,
  "nbformat_minor": 0
}